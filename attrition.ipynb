{
 "cells": [
  {
   "cell_type": "markdown",
   "metadata": {
    "id": "alIIEHibGc3M"
   },
   "source": [
    "## Part 1: Preprocessing"
   ]
  },
  {
   "cell_type": "code",
   "execution_count": 2,
   "metadata": {
    "colab": {
     "base_uri": "https://localhost:8080/",
     "height": 325
    },
    "executionInfo": {
     "elapsed": 12323,
     "status": "ok",
     "timestamp": 1730699226906,
     "user": {
      "displayName": "Alexander Booth",
      "userId": "02269714993535573104"
     },
     "user_tz": 360
    },
    "id": "6eDUJ4NtGc3P",
    "outputId": "eeae54b5-3d17-442d-94ba-00dd55b89964"
   },
   "outputs": [
    {
     "data": {
      "text/html": [
       "<div>\n",
       "<style scoped>\n",
       "    .dataframe tbody tr th:only-of-type {\n",
       "        vertical-align: middle;\n",
       "    }\n",
       "\n",
       "    .dataframe tbody tr th {\n",
       "        vertical-align: top;\n",
       "    }\n",
       "\n",
       "    .dataframe thead th {\n",
       "        text-align: right;\n",
       "    }\n",
       "</style>\n",
       "<table border=\"1\" class=\"dataframe\">\n",
       "  <thead>\n",
       "    <tr style=\"text-align: right;\">\n",
       "      <th></th>\n",
       "      <th>Age</th>\n",
       "      <th>Attrition</th>\n",
       "      <th>BusinessTravel</th>\n",
       "      <th>Department</th>\n",
       "      <th>DistanceFromHome</th>\n",
       "      <th>Education</th>\n",
       "      <th>EducationField</th>\n",
       "      <th>EnvironmentSatisfaction</th>\n",
       "      <th>HourlyRate</th>\n",
       "      <th>JobInvolvement</th>\n",
       "      <th>...</th>\n",
       "      <th>PerformanceRating</th>\n",
       "      <th>RelationshipSatisfaction</th>\n",
       "      <th>StockOptionLevel</th>\n",
       "      <th>TotalWorkingYears</th>\n",
       "      <th>TrainingTimesLastYear</th>\n",
       "      <th>WorkLifeBalance</th>\n",
       "      <th>YearsAtCompany</th>\n",
       "      <th>YearsInCurrentRole</th>\n",
       "      <th>YearsSinceLastPromotion</th>\n",
       "      <th>YearsWithCurrManager</th>\n",
       "    </tr>\n",
       "  </thead>\n",
       "  <tbody>\n",
       "    <tr>\n",
       "      <th>0</th>\n",
       "      <td>41</td>\n",
       "      <td>Yes</td>\n",
       "      <td>Travel_Rarely</td>\n",
       "      <td>Sales</td>\n",
       "      <td>1</td>\n",
       "      <td>2</td>\n",
       "      <td>Life Sciences</td>\n",
       "      <td>2</td>\n",
       "      <td>94</td>\n",
       "      <td>3</td>\n",
       "      <td>...</td>\n",
       "      <td>3</td>\n",
       "      <td>1</td>\n",
       "      <td>0</td>\n",
       "      <td>8</td>\n",
       "      <td>0</td>\n",
       "      <td>1</td>\n",
       "      <td>6</td>\n",
       "      <td>4</td>\n",
       "      <td>0</td>\n",
       "      <td>5</td>\n",
       "    </tr>\n",
       "    <tr>\n",
       "      <th>1</th>\n",
       "      <td>49</td>\n",
       "      <td>No</td>\n",
       "      <td>Travel_Frequently</td>\n",
       "      <td>Research &amp; Development</td>\n",
       "      <td>8</td>\n",
       "      <td>1</td>\n",
       "      <td>Life Sciences</td>\n",
       "      <td>3</td>\n",
       "      <td>61</td>\n",
       "      <td>2</td>\n",
       "      <td>...</td>\n",
       "      <td>4</td>\n",
       "      <td>4</td>\n",
       "      <td>1</td>\n",
       "      <td>10</td>\n",
       "      <td>3</td>\n",
       "      <td>3</td>\n",
       "      <td>10</td>\n",
       "      <td>7</td>\n",
       "      <td>1</td>\n",
       "      <td>7</td>\n",
       "    </tr>\n",
       "    <tr>\n",
       "      <th>2</th>\n",
       "      <td>37</td>\n",
       "      <td>Yes</td>\n",
       "      <td>Travel_Rarely</td>\n",
       "      <td>Research &amp; Development</td>\n",
       "      <td>2</td>\n",
       "      <td>2</td>\n",
       "      <td>Other</td>\n",
       "      <td>4</td>\n",
       "      <td>92</td>\n",
       "      <td>2</td>\n",
       "      <td>...</td>\n",
       "      <td>3</td>\n",
       "      <td>2</td>\n",
       "      <td>0</td>\n",
       "      <td>7</td>\n",
       "      <td>3</td>\n",
       "      <td>3</td>\n",
       "      <td>0</td>\n",
       "      <td>0</td>\n",
       "      <td>0</td>\n",
       "      <td>0</td>\n",
       "    </tr>\n",
       "    <tr>\n",
       "      <th>3</th>\n",
       "      <td>33</td>\n",
       "      <td>No</td>\n",
       "      <td>Travel_Frequently</td>\n",
       "      <td>Research &amp; Development</td>\n",
       "      <td>3</td>\n",
       "      <td>4</td>\n",
       "      <td>Life Sciences</td>\n",
       "      <td>4</td>\n",
       "      <td>56</td>\n",
       "      <td>3</td>\n",
       "      <td>...</td>\n",
       "      <td>3</td>\n",
       "      <td>3</td>\n",
       "      <td>0</td>\n",
       "      <td>8</td>\n",
       "      <td>3</td>\n",
       "      <td>3</td>\n",
       "      <td>8</td>\n",
       "      <td>7</td>\n",
       "      <td>3</td>\n",
       "      <td>0</td>\n",
       "    </tr>\n",
       "    <tr>\n",
       "      <th>4</th>\n",
       "      <td>27</td>\n",
       "      <td>No</td>\n",
       "      <td>Travel_Rarely</td>\n",
       "      <td>Research &amp; Development</td>\n",
       "      <td>2</td>\n",
       "      <td>1</td>\n",
       "      <td>Medical</td>\n",
       "      <td>1</td>\n",
       "      <td>40</td>\n",
       "      <td>3</td>\n",
       "      <td>...</td>\n",
       "      <td>3</td>\n",
       "      <td>4</td>\n",
       "      <td>1</td>\n",
       "      <td>6</td>\n",
       "      <td>3</td>\n",
       "      <td>3</td>\n",
       "      <td>2</td>\n",
       "      <td>2</td>\n",
       "      <td>2</td>\n",
       "      <td>2</td>\n",
       "    </tr>\n",
       "  </tbody>\n",
       "</table>\n",
       "<p>5 rows × 27 columns</p>\n",
       "</div>"
      ],
      "text/plain": [
       "   Age Attrition     BusinessTravel              Department  DistanceFromHome  \\\n",
       "0   41       Yes      Travel_Rarely                   Sales                 1   \n",
       "1   49        No  Travel_Frequently  Research & Development                 8   \n",
       "2   37       Yes      Travel_Rarely  Research & Development                 2   \n",
       "3   33        No  Travel_Frequently  Research & Development                 3   \n",
       "4   27        No      Travel_Rarely  Research & Development                 2   \n",
       "\n",
       "   Education EducationField  EnvironmentSatisfaction  HourlyRate  \\\n",
       "0          2  Life Sciences                        2          94   \n",
       "1          1  Life Sciences                        3          61   \n",
       "2          2          Other                        4          92   \n",
       "3          4  Life Sciences                        4          56   \n",
       "4          1        Medical                        1          40   \n",
       "\n",
       "   JobInvolvement  ...  PerformanceRating RelationshipSatisfaction  \\\n",
       "0               3  ...                  3                        1   \n",
       "1               2  ...                  4                        4   \n",
       "2               2  ...                  3                        2   \n",
       "3               3  ...                  3                        3   \n",
       "4               3  ...                  3                        4   \n",
       "\n",
       "   StockOptionLevel TotalWorkingYears  TrainingTimesLastYear WorkLifeBalance  \\\n",
       "0                 0                 8                      0               1   \n",
       "1                 1                10                      3               3   \n",
       "2                 0                 7                      3               3   \n",
       "3                 0                 8                      3               3   \n",
       "4                 1                 6                      3               3   \n",
       "\n",
       "   YearsAtCompany  YearsInCurrentRole  YearsSinceLastPromotion  \\\n",
       "0               6                   4                        0   \n",
       "1              10                   7                        1   \n",
       "2               0                   0                        0   \n",
       "3               8                   7                        3   \n",
       "4               2                   2                        2   \n",
       "\n",
       "   YearsWithCurrManager  \n",
       "0                     5  \n",
       "1                     7  \n",
       "2                     0  \n",
       "3                     0  \n",
       "4                     2  \n",
       "\n",
       "[5 rows x 27 columns]"
      ]
     },
     "execution_count": 2,
     "metadata": {},
     "output_type": "execute_result"
    }
   ],
   "source": [
    "# Import our dependencies\n",
    "from sklearn.model_selection import train_test_split\n",
    "from sklearn.preprocessing import StandardScaler\n",
    "import pandas as pd\n",
    "import numpy as np\n",
    "from tensorflow.keras.models import Model\n",
    "from tensorflow.keras import layers\n",
    "from tensorflow.keras.layers import Input, Dense\n",
    "\n",
    "#  Import and read the attrition data\n",
    "attrition_df = pd.read_csv('https://static.bc-edx.com/ai/ail-v-1-0/m19/lms/datasets/attrition.csv')\n",
    "attrition_df.head()"
   ]
  },
  {
   "cell_type": "code",
   "execution_count": 3,
   "metadata": {
    "colab": {
     "base_uri": "https://localhost:8080/",
     "height": 930
    },
    "executionInfo": {
     "elapsed": 10,
     "status": "ok",
     "timestamp": 1730699226906,
     "user": {
      "displayName": "Alexander Booth",
      "userId": "02269714993535573104"
     },
     "user_tz": 360
    },
    "id": "g22aQSY4Gc3Q",
    "outputId": "e8b68509-45d8-42e0-a9db-1bdce48e4b2d"
   },
   "outputs": [
    {
     "data": {
      "text/plain": [
       "Age                         43\n",
       "Attrition                    2\n",
       "BusinessTravel               3\n",
       "Department                   3\n",
       "DistanceFromHome            29\n",
       "Education                    5\n",
       "EducationField               6\n",
       "EnvironmentSatisfaction      4\n",
       "HourlyRate                  71\n",
       "JobInvolvement               4\n",
       "JobLevel                     5\n",
       "JobRole                      9\n",
       "JobSatisfaction              4\n",
       "MaritalStatus                3\n",
       "NumCompaniesWorked          10\n",
       "OverTime                     2\n",
       "PercentSalaryHike           15\n",
       "PerformanceRating            2\n",
       "RelationshipSatisfaction     4\n",
       "StockOptionLevel             4\n",
       "TotalWorkingYears           40\n",
       "TrainingTimesLastYear        7\n",
       "WorkLifeBalance              4\n",
       "YearsAtCompany              37\n",
       "YearsInCurrentRole          19\n",
       "YearsSinceLastPromotion     16\n",
       "YearsWithCurrManager        18\n",
       "dtype: int64"
      ]
     },
     "execution_count": 3,
     "metadata": {},
     "output_type": "execute_result"
    }
   ],
   "source": [
    "# Determine the number of unique values in each column\n",
    "attrition_df.nunique()"
   ]
  },
  {
   "cell_type": "code",
   "execution_count": 4,
   "metadata": {
    "executionInfo": {
     "elapsed": 7,
     "status": "ok",
     "timestamp": 1730699226906,
     "user": {
      "displayName": "Alexander Booth",
      "userId": "02269714993535573104"
     },
     "user_tz": 360
    },
    "id": "50vMgBEnJbfM"
   },
   "outputs": [
    {
     "data": {
      "text/html": [
       "<div>\n",
       "<style scoped>\n",
       "    .dataframe tbody tr th:only-of-type {\n",
       "        vertical-align: middle;\n",
       "    }\n",
       "\n",
       "    .dataframe tbody tr th {\n",
       "        vertical-align: top;\n",
       "    }\n",
       "\n",
       "    .dataframe thead th {\n",
       "        text-align: right;\n",
       "    }\n",
       "</style>\n",
       "<table border=\"1\" class=\"dataframe\">\n",
       "  <thead>\n",
       "    <tr style=\"text-align: right;\">\n",
       "      <th></th>\n",
       "      <th>Attrition</th>\n",
       "      <th>Department</th>\n",
       "    </tr>\n",
       "  </thead>\n",
       "  <tbody>\n",
       "    <tr>\n",
       "      <th>0</th>\n",
       "      <td>Yes</td>\n",
       "      <td>Sales</td>\n",
       "    </tr>\n",
       "    <tr>\n",
       "      <th>1</th>\n",
       "      <td>No</td>\n",
       "      <td>Research &amp; Development</td>\n",
       "    </tr>\n",
       "    <tr>\n",
       "      <th>2</th>\n",
       "      <td>Yes</td>\n",
       "      <td>Research &amp; Development</td>\n",
       "    </tr>\n",
       "    <tr>\n",
       "      <th>3</th>\n",
       "      <td>No</td>\n",
       "      <td>Research &amp; Development</td>\n",
       "    </tr>\n",
       "    <tr>\n",
       "      <th>4</th>\n",
       "      <td>No</td>\n",
       "      <td>Research &amp; Development</td>\n",
       "    </tr>\n",
       "  </tbody>\n",
       "</table>\n",
       "</div>"
      ],
      "text/plain": [
       "  Attrition              Department\n",
       "0       Yes                   Sales\n",
       "1        No  Research & Development\n",
       "2       Yes  Research & Development\n",
       "3        No  Research & Development\n",
       "4        No  Research & Development"
      ]
     },
     "execution_count": 4,
     "metadata": {},
     "output_type": "execute_result"
    }
   ],
   "source": [
    "# Create y_df with the Attrition and Department columns\n",
    "y_df = attrition_df[['Attrition', 'Department']]\n",
    "y_df.head()"
   ]
  },
  {
   "cell_type": "code",
   "execution_count": 5,
   "metadata": {
    "colab": {
     "base_uri": "https://localhost:8080/",
     "height": 397
    },
    "executionInfo": {
     "elapsed": 125,
     "status": "ok",
     "timestamp": 1730699227025,
     "user": {
      "displayName": "Alexander Booth",
      "userId": "02269714993535573104"
     },
     "user_tz": 360
    },
    "id": "Virka0zLGc3R",
    "outputId": "24f181c9-7e2e-42cb-94e8-a75842f1ab01"
   },
   "outputs": [
    {
     "data": {
      "text/plain": [
       "Education                   int64\n",
       "Age                         int64\n",
       "DistanceFromHome            int64\n",
       "JobSatisfaction             int64\n",
       "OverTime                   object\n",
       "StockOptionLevel            int64\n",
       "WorkLifeBalance             int64\n",
       "YearsAtCompany              int64\n",
       "YearsSinceLastPromotion     int64\n",
       "NumCompaniesWorked          int64\n",
       "dtype: object"
      ]
     },
     "execution_count": 5,
     "metadata": {},
     "output_type": "execute_result"
    }
   ],
   "source": [
    "# Create a list of at least 10 column names to use as X data\n",
    "X_columns = [\n",
    "    'Education', 'Age', 'DistanceFromHome',\n",
    "    'JobSatisfaction', 'OverTime','StockOptionLevel',\n",
    "    'WorkLifeBalance', 'YearsAtCompany', 'YearsSinceLastPromotion',\n",
    "    'NumCompaniesWorked'\n",
    "]\n",
    "\n",
    "# Create X_df using your selected columns\n",
    "X_df = attrition_df[X_columns]\n",
    "\n",
    "\n",
    "# Show the data types for X_df\n",
    "X_df.dtypes"
   ]
  },
  {
   "cell_type": "code",
   "execution_count": null,
   "metadata": {
    "executionInfo": {
     "elapsed": 9,
     "status": "ok",
     "timestamp": 1730699227025,
     "user": {
      "displayName": "Alexander Booth",
      "userId": "02269714993535573104"
     },
     "user_tz": 360
    },
    "id": "KaJfdOGUMHMR"
   },
   "outputs": [],
   "source": [
    "# Split the data into training and testing sets\n",
    "from sklearn.model_selection import train_test_split\n",
    "X_train, X_test, y_train, y_test = train_test_split(X_df, y_df, random_state=1)\n"
   ]
  },
  {
   "cell_type": "code",
   "execution_count": 7,
   "metadata": {},
   "outputs": [
    {
     "data": {
      "text/html": [
       "<div>\n",
       "<style scoped>\n",
       "    .dataframe tbody tr th:only-of-type {\n",
       "        vertical-align: middle;\n",
       "    }\n",
       "\n",
       "    .dataframe tbody tr th {\n",
       "        vertical-align: top;\n",
       "    }\n",
       "\n",
       "    .dataframe thead th {\n",
       "        text-align: right;\n",
       "    }\n",
       "</style>\n",
       "<table border=\"1\" class=\"dataframe\">\n",
       "  <thead>\n",
       "    <tr style=\"text-align: right;\">\n",
       "      <th></th>\n",
       "      <th>count</th>\n",
       "    </tr>\n",
       "    <tr>\n",
       "      <th>OverTime</th>\n",
       "      <th></th>\n",
       "    </tr>\n",
       "  </thead>\n",
       "  <tbody>\n",
       "    <tr>\n",
       "      <th>No</th>\n",
       "      <td>798</td>\n",
       "    </tr>\n",
       "    <tr>\n",
       "      <th>Yes</th>\n",
       "      <td>304</td>\n",
       "    </tr>\n",
       "  </tbody>\n",
       "</table>\n",
       "</div>"
      ],
      "text/plain": [
       "          count\n",
       "OverTime       \n",
       "No          798\n",
       "Yes         304"
      ]
     },
     "execution_count": 7,
     "metadata": {},
     "output_type": "execute_result"
    }
   ],
   "source": [
    "# Convert your X data to numeric data types however you see fit\n",
    "# Add new code cells as necessary\n",
    "X_train['OverTime'].value_counts().rename_axis('OverTime').to_frame('count')\n"
   ]
  },
  {
   "cell_type": "code",
   "execution_count": 8,
   "metadata": {},
   "outputs": [],
   "source": [
    "# Convert the OverTime column to numeric in X_train and X_test\n",
    "X_train = pd.get_dummies(X_train, columns=['OverTime'], drop_first=True)\n",
    "X_test = pd.get_dummies(X_test, columns=['OverTime'], drop_first=True)\n"
   ]
  },
  {
   "cell_type": "code",
   "execution_count": 9,
   "metadata": {
    "executionInfo": {
     "elapsed": 6,
     "status": "ok",
     "timestamp": 1730699227162,
     "user": {
      "displayName": "Alexander Booth",
      "userId": "02269714993535573104"
     },
     "user_tz": 360
    },
    "id": "EWA-aIA5Gc3T"
   },
   "outputs": [],
   "source": [
    "# Create a StandardScaler\n",
    "scaler = StandardScaler()\n",
    "\n",
    "# Fit the StandardScaler to the training data\n",
    "X_scaler = scaler.fit(X_train)\n",
    "\n",
    "# Scale the training and testing data\n",
    "X_train_scaled = X_scaler.transform(X_train)\n",
    "X_test_scaled = X_scaler.transform(X_test)\n"
   ]
  },
  {
   "cell_type": "code",
   "execution_count": 10,
   "metadata": {},
   "outputs": [
    {
     "data": {
      "text/plain": [
       "array([[0., 1., 0.],\n",
       "       [0., 1., 0.],\n",
       "       [0., 0., 1.],\n",
       "       [0., 1., 0.],\n",
       "       [0., 1., 0.]])"
      ]
     },
     "execution_count": 10,
     "metadata": {},
     "output_type": "execute_result"
    }
   ],
   "source": [
    "from sklearn.preprocessing import OneHotEncoder\n",
    "\n",
    "# Create a OneHotEncoder for the Department column\n",
    "encoder = OneHotEncoder(sparse_output=False, handle_unknown='ignore')\n",
    "\n",
    "# Fit the encoder to the training data\n",
    "encoder.fit(y_train[['Department']])\n",
    "\n",
    "# Create two new variables by applying the encoder\n",
    "# to the training and testing data\n",
    "y_train_department = encoder.transform(y_train[['Department']])\n",
    "y_test_department = encoder.transform(y_test[['Department']])\n",
    "\n",
    "y_train_department[:5]"
   ]
  },
  {
   "cell_type": "code",
   "execution_count": 11,
   "metadata": {
    "colab": {
     "base_uri": "https://localhost:8080/"
    },
    "executionInfo": {
     "elapsed": 5,
     "status": "ok",
     "timestamp": 1730699227257,
     "user": {
      "displayName": "Alexander Booth",
      "userId": "02269714993535573104"
     },
     "user_tz": 360
    },
    "id": "-G4DSpvFRrk4",
    "outputId": "1821049e-a4f0-437f-b8a7-e415431fbdb0"
   },
   "outputs": [
    {
     "data": {
      "text/plain": [
       "array([[1., 0.],\n",
       "       [1., 0.],\n",
       "       [0., 1.],\n",
       "       [1., 0.],\n",
       "       [1., 0.]])"
      ]
     },
     "execution_count": 11,
     "metadata": {},
     "output_type": "execute_result"
    }
   ],
   "source": [
    "# Create a OneHotEncoder for the Attrition column\n",
    "encoder = OneHotEncoder(sparse_output=False, handle_unknown='ignore')\n",
    "\n",
    "# Fit the encoder to the training data\n",
    "encoder.fit(y_train[['Attrition']])\n",
    "\n",
    "# Create two new variables by applying the encoder\n",
    "# to the training and testing data\n",
    "y_train_attrition = encoder.transform(y_train[['Attrition']])\n",
    "y_test_attrition = encoder.transform(y_test[['Attrition']])\n",
    "\n",
    "y_train_attrition[:5]"
   ]
  },
  {
   "cell_type": "markdown",
   "metadata": {
    "id": "ykNmu_WWGc3T"
   },
   "source": [
    "## Part 2: Create, Compile, and Train the Model"
   ]
  },
  {
   "cell_type": "code",
   "execution_count": 12,
   "metadata": {
    "executionInfo": {
     "elapsed": 309,
     "status": "ok",
     "timestamp": 1730699227563,
     "user": {
      "displayName": "Alexander Booth",
      "userId": "02269714993535573104"
     },
     "user_tz": 360
    },
    "id": "WUptZqmSGc3T"
   },
   "outputs": [],
   "source": [
    "# Find the number of columns in the X training data.\n",
    "input_dim = X_train.shape[1]\n",
    "\n",
    "# Create the input layer\n",
    "inputLayer = layers.Input(shape=(input_dim,), name='inputLayer')\n",
    "\n",
    "# Create at least two shared layers\n",
    "shared1 = layers.Dense(64, activation='relu', name='shared1')(inputLayer)\n",
    "shared2 = layers.Dense(128, activation='relu', name='shared2')(shared1)\n"
   ]
  },
  {
   "cell_type": "code",
   "execution_count": 13,
   "metadata": {
    "executionInfo": {
     "elapsed": 118,
     "status": "ok",
     "timestamp": 1730699227678,
     "user": {
      "displayName": "Alexander Booth",
      "userId": "02269714993535573104"
     },
     "user_tz": 360
    },
    "id": "JukjTm2yTEqd"
   },
   "outputs": [],
   "source": [
    "# Create a branch for Department\n",
    "# with a hidden layer and an output layer\n",
    "\n",
    "# Create the hidden layer\n",
    "department_hidden = layers.Dense(32, activation='relu', name='department_hidden')(shared2)\n",
    "\n",
    "# Create the output layer\n",
    "department_output = layers.Dense(3, activation='softmax', name='department_output')(department_hidden)\n",
    "\n"
   ]
  },
  {
   "cell_type": "code",
   "execution_count": 14,
   "metadata": {
    "executionInfo": {
     "elapsed": 9,
     "status": "ok",
     "timestamp": 1730699227679,
     "user": {
      "displayName": "Alexander Booth",
      "userId": "02269714993535573104"
     },
     "user_tz": 360
    },
    "id": "9OqhUiOJUBkR"
   },
   "outputs": [],
   "source": [
    "# Create a branch for Attrition\n",
    "# with a hidden layer and an output layer\n",
    "\n",
    "# Create the hidden layer\n",
    "attrition_hidden = layers.Dense(32, activation='relu', name=\"attrition_hidden\")(shared2)\n",
    "\n",
    "# Create the output layer\n",
    "attrition_output = layers.Dense(2, activation='softmax', name='attrition_output')(attrition_hidden)\n"
   ]
  },
  {
   "cell_type": "code",
   "execution_count": 15,
   "metadata": {
    "colab": {
     "base_uri": "https://localhost:8080/",
     "height": 361
    },
    "executionInfo": {
     "elapsed": 108,
     "status": "ok",
     "timestamp": 1730699227780,
     "user": {
      "displayName": "Alexander Booth",
      "userId": "02269714993535573104"
     },
     "user_tz": 360
    },
    "id": "twmuejdxGc3T",
    "outputId": "dd9ce242-6a66-4709-ba13-4b13551c22e0"
   },
   "outputs": [
    {
     "data": {
      "text/html": [
       "<pre style=\"white-space:pre;overflow-x:auto;line-height:normal;font-family:Menlo,'DejaVu Sans Mono',consolas,'Courier New',monospace\"><span style=\"font-weight: bold\">Model: \"functional\"</span>\n",
       "</pre>\n"
      ],
      "text/plain": [
       "\u001b[1mModel: \"functional\"\u001b[0m\n"
      ]
     },
     "metadata": {},
     "output_type": "display_data"
    },
    {
     "data": {
      "text/html": [
       "<pre style=\"white-space:pre;overflow-x:auto;line-height:normal;font-family:Menlo,'DejaVu Sans Mono',consolas,'Courier New',monospace\">┏━━━━━━━━━━━━━━━━━━━━━┳━━━━━━━━━━━━━━━━━━━┳━━━━━━━━━━━━┳━━━━━━━━━━━━━━━━━━━┓\n",
       "┃<span style=\"font-weight: bold\"> Layer (type)        </span>┃<span style=\"font-weight: bold\"> Output Shape      </span>┃<span style=\"font-weight: bold\">    Param # </span>┃<span style=\"font-weight: bold\"> Connected to      </span>┃\n",
       "┡━━━━━━━━━━━━━━━━━━━━━╇━━━━━━━━━━━━━━━━━━━╇━━━━━━━━━━━━╇━━━━━━━━━━━━━━━━━━━┩\n",
       "│ inputLayer          │ (<span style=\"color: #00d7ff; text-decoration-color: #00d7ff\">None</span>, <span style=\"color: #00af00; text-decoration-color: #00af00\">10</span>)        │          <span style=\"color: #00af00; text-decoration-color: #00af00\">0</span> │ -                 │\n",
       "│ (<span style=\"color: #0087ff; text-decoration-color: #0087ff\">InputLayer</span>)        │                   │            │                   │\n",
       "├─────────────────────┼───────────────────┼────────────┼───────────────────┤\n",
       "│ shared1 (<span style=\"color: #0087ff; text-decoration-color: #0087ff\">Dense</span>)     │ (<span style=\"color: #00d7ff; text-decoration-color: #00d7ff\">None</span>, <span style=\"color: #00af00; text-decoration-color: #00af00\">64</span>)        │        <span style=\"color: #00af00; text-decoration-color: #00af00\">704</span> │ inputLayer[<span style=\"color: #00af00; text-decoration-color: #00af00\">0</span>][<span style=\"color: #00af00; text-decoration-color: #00af00\">0</span>]  │\n",
       "├─────────────────────┼───────────────────┼────────────┼───────────────────┤\n",
       "│ shared2 (<span style=\"color: #0087ff; text-decoration-color: #0087ff\">Dense</span>)     │ (<span style=\"color: #00d7ff; text-decoration-color: #00d7ff\">None</span>, <span style=\"color: #00af00; text-decoration-color: #00af00\">128</span>)       │      <span style=\"color: #00af00; text-decoration-color: #00af00\">8,320</span> │ shared1[<span style=\"color: #00af00; text-decoration-color: #00af00\">0</span>][<span style=\"color: #00af00; text-decoration-color: #00af00\">0</span>]     │\n",
       "├─────────────────────┼───────────────────┼────────────┼───────────────────┤\n",
       "│ department_hidden   │ (<span style=\"color: #00d7ff; text-decoration-color: #00d7ff\">None</span>, <span style=\"color: #00af00; text-decoration-color: #00af00\">32</span>)        │      <span style=\"color: #00af00; text-decoration-color: #00af00\">4,128</span> │ shared2[<span style=\"color: #00af00; text-decoration-color: #00af00\">0</span>][<span style=\"color: #00af00; text-decoration-color: #00af00\">0</span>]     │\n",
       "│ (<span style=\"color: #0087ff; text-decoration-color: #0087ff\">Dense</span>)             │                   │            │                   │\n",
       "├─────────────────────┼───────────────────┼────────────┼───────────────────┤\n",
       "│ attrition_hidden    │ (<span style=\"color: #00d7ff; text-decoration-color: #00d7ff\">None</span>, <span style=\"color: #00af00; text-decoration-color: #00af00\">32</span>)        │      <span style=\"color: #00af00; text-decoration-color: #00af00\">4,128</span> │ shared2[<span style=\"color: #00af00; text-decoration-color: #00af00\">0</span>][<span style=\"color: #00af00; text-decoration-color: #00af00\">0</span>]     │\n",
       "│ (<span style=\"color: #0087ff; text-decoration-color: #0087ff\">Dense</span>)             │                   │            │                   │\n",
       "├─────────────────────┼───────────────────┼────────────┼───────────────────┤\n",
       "│ department_output   │ (<span style=\"color: #00d7ff; text-decoration-color: #00d7ff\">None</span>, <span style=\"color: #00af00; text-decoration-color: #00af00\">3</span>)         │         <span style=\"color: #00af00; text-decoration-color: #00af00\">99</span> │ department_hidde… │\n",
       "│ (<span style=\"color: #0087ff; text-decoration-color: #0087ff\">Dense</span>)             │                   │            │                   │\n",
       "├─────────────────────┼───────────────────┼────────────┼───────────────────┤\n",
       "│ attrition_output    │ (<span style=\"color: #00d7ff; text-decoration-color: #00d7ff\">None</span>, <span style=\"color: #00af00; text-decoration-color: #00af00\">2</span>)         │         <span style=\"color: #00af00; text-decoration-color: #00af00\">66</span> │ attrition_hidden… │\n",
       "│ (<span style=\"color: #0087ff; text-decoration-color: #0087ff\">Dense</span>)             │                   │            │                   │\n",
       "└─────────────────────┴───────────────────┴────────────┴───────────────────┘\n",
       "</pre>\n"
      ],
      "text/plain": [
       "┏━━━━━━━━━━━━━━━━━━━━━┳━━━━━━━━━━━━━━━━━━━┳━━━━━━━━━━━━┳━━━━━━━━━━━━━━━━━━━┓\n",
       "┃\u001b[1m \u001b[0m\u001b[1mLayer (type)       \u001b[0m\u001b[1m \u001b[0m┃\u001b[1m \u001b[0m\u001b[1mOutput Shape     \u001b[0m\u001b[1m \u001b[0m┃\u001b[1m \u001b[0m\u001b[1m   Param #\u001b[0m\u001b[1m \u001b[0m┃\u001b[1m \u001b[0m\u001b[1mConnected to     \u001b[0m\u001b[1m \u001b[0m┃\n",
       "┡━━━━━━━━━━━━━━━━━━━━━╇━━━━━━━━━━━━━━━━━━━╇━━━━━━━━━━━━╇━━━━━━━━━━━━━━━━━━━┩\n",
       "│ inputLayer          │ (\u001b[38;5;45mNone\u001b[0m, \u001b[38;5;34m10\u001b[0m)        │          \u001b[38;5;34m0\u001b[0m │ -                 │\n",
       "│ (\u001b[38;5;33mInputLayer\u001b[0m)        │                   │            │                   │\n",
       "├─────────────────────┼───────────────────┼────────────┼───────────────────┤\n",
       "│ shared1 (\u001b[38;5;33mDense\u001b[0m)     │ (\u001b[38;5;45mNone\u001b[0m, \u001b[38;5;34m64\u001b[0m)        │        \u001b[38;5;34m704\u001b[0m │ inputLayer[\u001b[38;5;34m0\u001b[0m][\u001b[38;5;34m0\u001b[0m]  │\n",
       "├─────────────────────┼───────────────────┼────────────┼───────────────────┤\n",
       "│ shared2 (\u001b[38;5;33mDense\u001b[0m)     │ (\u001b[38;5;45mNone\u001b[0m, \u001b[38;5;34m128\u001b[0m)       │      \u001b[38;5;34m8,320\u001b[0m │ shared1[\u001b[38;5;34m0\u001b[0m][\u001b[38;5;34m0\u001b[0m]     │\n",
       "├─────────────────────┼───────────────────┼────────────┼───────────────────┤\n",
       "│ department_hidden   │ (\u001b[38;5;45mNone\u001b[0m, \u001b[38;5;34m32\u001b[0m)        │      \u001b[38;5;34m4,128\u001b[0m │ shared2[\u001b[38;5;34m0\u001b[0m][\u001b[38;5;34m0\u001b[0m]     │\n",
       "│ (\u001b[38;5;33mDense\u001b[0m)             │                   │            │                   │\n",
       "├─────────────────────┼───────────────────┼────────────┼───────────────────┤\n",
       "│ attrition_hidden    │ (\u001b[38;5;45mNone\u001b[0m, \u001b[38;5;34m32\u001b[0m)        │      \u001b[38;5;34m4,128\u001b[0m │ shared2[\u001b[38;5;34m0\u001b[0m][\u001b[38;5;34m0\u001b[0m]     │\n",
       "│ (\u001b[38;5;33mDense\u001b[0m)             │                   │            │                   │\n",
       "├─────────────────────┼───────────────────┼────────────┼───────────────────┤\n",
       "│ department_output   │ (\u001b[38;5;45mNone\u001b[0m, \u001b[38;5;34m3\u001b[0m)         │         \u001b[38;5;34m99\u001b[0m │ department_hidde… │\n",
       "│ (\u001b[38;5;33mDense\u001b[0m)             │                   │            │                   │\n",
       "├─────────────────────┼───────────────────┼────────────┼───────────────────┤\n",
       "│ attrition_output    │ (\u001b[38;5;45mNone\u001b[0m, \u001b[38;5;34m2\u001b[0m)         │         \u001b[38;5;34m66\u001b[0m │ attrition_hidden… │\n",
       "│ (\u001b[38;5;33mDense\u001b[0m)             │                   │            │                   │\n",
       "└─────────────────────┴───────────────────┴────────────┴───────────────────┘\n"
      ]
     },
     "metadata": {},
     "output_type": "display_data"
    },
    {
     "data": {
      "text/html": [
       "<pre style=\"white-space:pre;overflow-x:auto;line-height:normal;font-family:Menlo,'DejaVu Sans Mono',consolas,'Courier New',monospace\"><span style=\"font-weight: bold\"> Total params: </span><span style=\"color: #00af00; text-decoration-color: #00af00\">17,445</span> (68.14 KB)\n",
       "</pre>\n"
      ],
      "text/plain": [
       "\u001b[1m Total params: \u001b[0m\u001b[38;5;34m17,445\u001b[0m (68.14 KB)\n"
      ]
     },
     "metadata": {},
     "output_type": "display_data"
    },
    {
     "data": {
      "text/html": [
       "<pre style=\"white-space:pre;overflow-x:auto;line-height:normal;font-family:Menlo,'DejaVu Sans Mono',consolas,'Courier New',monospace\"><span style=\"font-weight: bold\"> Trainable params: </span><span style=\"color: #00af00; text-decoration-color: #00af00\">17,445</span> (68.14 KB)\n",
       "</pre>\n"
      ],
      "text/plain": [
       "\u001b[1m Trainable params: \u001b[0m\u001b[38;5;34m17,445\u001b[0m (68.14 KB)\n"
      ]
     },
     "metadata": {},
     "output_type": "display_data"
    },
    {
     "data": {
      "text/html": [
       "<pre style=\"white-space:pre;overflow-x:auto;line-height:normal;font-family:Menlo,'DejaVu Sans Mono',consolas,'Courier New',monospace\"><span style=\"font-weight: bold\"> Non-trainable params: </span><span style=\"color: #00af00; text-decoration-color: #00af00\">0</span> (0.00 B)\n",
       "</pre>\n"
      ],
      "text/plain": [
       "\u001b[1m Non-trainable params: \u001b[0m\u001b[38;5;34m0\u001b[0m (0.00 B)\n"
      ]
     },
     "metadata": {},
     "output_type": "display_data"
    }
   ],
   "source": [
    "# Create the model\n",
    "model = Model(inputs=inputLayer, outputs=[department_output, attrition_output])\n",
    "\n",
    "# Compile the model\n",
    "model.compile(\n",
    "    optimizer='adam',\n",
    "    loss={\n",
    "        'department_output': 'categorical_crossentropy',\n",
    "        'attrition_output': 'categorical_crossentropy'\n",
    "},\n",
    "    metrics={\n",
    "        'department_output': 'accuracy',\n",
    "        'attrition_output': 'accuracy'\n",
    "    }\n",
    ")\n",
    "\n",
    "# Summarize the model\n",
    "model.summary()"
   ]
  },
  {
   "cell_type": "code",
   "execution_count": 16,
   "metadata": {
    "colab": {
     "base_uri": "https://localhost:8080/"
    },
    "executionInfo": {
     "elapsed": 31740,
     "status": "ok",
     "timestamp": 1730699259517,
     "user": {
      "displayName": "Alexander Booth",
      "userId": "02269714993535573104"
     },
     "user_tz": 360
    },
    "id": "c8oGy0dpGc3U",
    "outputId": "f48a5292-426f-4715-ea6e-381a8e9d5542"
   },
   "outputs": [
    {
     "name": "stdout",
     "output_type": "stream",
     "text": [
      "Epoch 1/100\n",
      "\u001b[1m35/35\u001b[0m \u001b[32m━━━━━━━━━━━━━━━━━━━━\u001b[0m\u001b[37m\u001b[0m \u001b[1m1s\u001b[0m 3ms/step - attrition_output_accuracy: 0.7311 - attrition_output_loss: 0.5596 - department_output_accuracy: 0.6152 - department_output_loss: 0.8918 - loss: 1.4508 - val_attrition_output_accuracy: 0.8152 - val_attrition_output_loss: 0.4787 - val_department_output_accuracy: 0.6467 - val_department_output_loss: 0.7868 - val_loss: 1.2846\n",
      "Epoch 2/100\n",
      "\u001b[1m35/35\u001b[0m \u001b[32m━━━━━━━━━━━━━━━━━━━━\u001b[0m\u001b[37m\u001b[0m \u001b[1m0s\u001b[0m 1ms/step - attrition_output_accuracy: 0.8359 - attrition_output_loss: 0.4134 - department_output_accuracy: 0.6772 - department_output_loss: 0.7707 - loss: 1.1842 - val_attrition_output_accuracy: 0.8207 - val_attrition_output_loss: 0.4378 - val_department_output_accuracy: 0.6413 - val_department_output_loss: 0.7785 - val_loss: 1.2369\n",
      "Epoch 3/100\n",
      "\u001b[1m35/35\u001b[0m \u001b[32m━━━━━━━━━━━━━━━━━━━━\u001b[0m\u001b[37m\u001b[0m \u001b[1m0s\u001b[0m 1ms/step - attrition_output_accuracy: 0.8644 - attrition_output_loss: 0.3538 - department_output_accuracy: 0.6499 - department_output_loss: 0.7790 - loss: 1.1332 - val_attrition_output_accuracy: 0.8315 - val_attrition_output_loss: 0.4182 - val_department_output_accuracy: 0.6413 - val_department_output_loss: 0.7772 - val_loss: 1.2175\n",
      "Epoch 4/100\n",
      "\u001b[1m35/35\u001b[0m \u001b[32m━━━━━━━━━━━━━━━━━━━━\u001b[0m\u001b[37m\u001b[0m \u001b[1m0s\u001b[0m 1ms/step - attrition_output_accuracy: 0.8636 - attrition_output_loss: 0.3382 - department_output_accuracy: 0.6549 - department_output_loss: 0.7509 - loss: 1.0889 - val_attrition_output_accuracy: 0.8288 - val_attrition_output_loss: 0.4210 - val_department_output_accuracy: 0.6413 - val_department_output_loss: 0.7822 - val_loss: 1.2233\n",
      "Epoch 5/100\n",
      "\u001b[1m35/35\u001b[0m \u001b[32m━━━━━━━━━━━━━━━━━━━━\u001b[0m\u001b[37m\u001b[0m \u001b[1m0s\u001b[0m 1ms/step - attrition_output_accuracy: 0.8741 - attrition_output_loss: 0.3376 - department_output_accuracy: 0.6904 - department_output_loss: 0.7139 - loss: 1.0510 - val_attrition_output_accuracy: 0.8288 - val_attrition_output_loss: 0.4084 - val_department_output_accuracy: 0.6467 - val_department_output_loss: 0.7817 - val_loss: 1.2100\n",
      "Epoch 6/100\n",
      "\u001b[1m35/35\u001b[0m \u001b[32m━━━━━━━━━━━━━━━━━━━━\u001b[0m\u001b[37m\u001b[0m \u001b[1m0s\u001b[0m 1ms/step - attrition_output_accuracy: 0.8826 - attrition_output_loss: 0.2929 - department_output_accuracy: 0.6570 - department_output_loss: 0.7530 - loss: 1.0461 - val_attrition_output_accuracy: 0.8261 - val_attrition_output_loss: 0.4005 - val_department_output_accuracy: 0.6386 - val_department_output_loss: 0.7835 - val_loss: 1.2071\n",
      "Epoch 7/100\n",
      "\u001b[1m35/35\u001b[0m \u001b[32m━━━━━━━━━━━━━━━━━━━━\u001b[0m\u001b[37m\u001b[0m \u001b[1m0s\u001b[0m 1ms/step - attrition_output_accuracy: 0.8809 - attrition_output_loss: 0.3117 - department_output_accuracy: 0.6729 - department_output_loss: 0.7047 - loss: 1.0162 - val_attrition_output_accuracy: 0.8315 - val_attrition_output_loss: 0.4050 - val_department_output_accuracy: 0.6332 - val_department_output_loss: 0.7868 - val_loss: 1.2146\n",
      "Epoch 8/100\n",
      "\u001b[1m35/35\u001b[0m \u001b[32m━━━━━━━━━━━━━━━━━━━━\u001b[0m\u001b[37m\u001b[0m \u001b[1m0s\u001b[0m 1ms/step - attrition_output_accuracy: 0.8789 - attrition_output_loss: 0.2980 - department_output_accuracy: 0.6496 - department_output_loss: 0.7499 - loss: 1.0479 - val_attrition_output_accuracy: 0.8288 - val_attrition_output_loss: 0.4252 - val_department_output_accuracy: 0.6332 - val_department_output_loss: 0.7961 - val_loss: 1.2472\n",
      "Epoch 9/100\n",
      "\u001b[1m35/35\u001b[0m \u001b[32m━━━━━━━━━━━━━━━━━━━━\u001b[0m\u001b[37m\u001b[0m \u001b[1m0s\u001b[0m 1ms/step - attrition_output_accuracy: 0.8784 - attrition_output_loss: 0.2884 - department_output_accuracy: 0.6715 - department_output_loss: 0.7195 - loss: 1.0076 - val_attrition_output_accuracy: 0.8370 - val_attrition_output_loss: 0.4276 - val_department_output_accuracy: 0.6440 - val_department_output_loss: 0.8039 - val_loss: 1.2603\n",
      "Epoch 10/100\n",
      "\u001b[1m35/35\u001b[0m \u001b[32m━━━━━━━━━━━━━━━━━━━━\u001b[0m\u001b[37m\u001b[0m \u001b[1m0s\u001b[0m 1ms/step - attrition_output_accuracy: 0.8833 - attrition_output_loss: 0.2883 - department_output_accuracy: 0.6749 - department_output_loss: 0.6994 - loss: 0.9878 - val_attrition_output_accuracy: 0.8342 - val_attrition_output_loss: 0.4015 - val_department_output_accuracy: 0.6304 - val_department_output_loss: 0.8085 - val_loss: 1.2363\n",
      "Epoch 11/100\n",
      "\u001b[1m35/35\u001b[0m \u001b[32m━━━━━━━━━━━━━━━━━━━━\u001b[0m\u001b[37m\u001b[0m \u001b[1m0s\u001b[0m 1ms/step - attrition_output_accuracy: 0.9017 - attrition_output_loss: 0.2580 - department_output_accuracy: 0.7210 - department_output_loss: 0.6450 - loss: 0.9029 - val_attrition_output_accuracy: 0.8261 - val_attrition_output_loss: 0.4112 - val_department_output_accuracy: 0.5870 - val_department_output_loss: 0.8230 - val_loss: 1.2584\n",
      "Epoch 12/100\n",
      "\u001b[1m35/35\u001b[0m \u001b[32m━━━━━━━━━━━━━━━━━━━━\u001b[0m\u001b[37m\u001b[0m \u001b[1m0s\u001b[0m 1ms/step - attrition_output_accuracy: 0.8861 - attrition_output_loss: 0.2813 - department_output_accuracy: 0.7070 - department_output_loss: 0.6728 - loss: 0.9541 - val_attrition_output_accuracy: 0.8261 - val_attrition_output_loss: 0.4237 - val_department_output_accuracy: 0.6304 - val_department_output_loss: 0.8235 - val_loss: 1.2760\n",
      "Epoch 13/100\n",
      "\u001b[1m35/35\u001b[0m \u001b[32m━━━━━━━━━━━━━━━━━━━━\u001b[0m\u001b[37m\u001b[0m \u001b[1m0s\u001b[0m 1ms/step - attrition_output_accuracy: 0.8950 - attrition_output_loss: 0.2584 - department_output_accuracy: 0.7148 - department_output_loss: 0.6382 - loss: 0.8964 - val_attrition_output_accuracy: 0.8261 - val_attrition_output_loss: 0.4225 - val_department_output_accuracy: 0.5707 - val_department_output_loss: 0.8488 - val_loss: 1.2958\n",
      "Epoch 14/100\n",
      "\u001b[1m35/35\u001b[0m \u001b[32m━━━━━━━━━━━━━━━━━━━━\u001b[0m\u001b[37m\u001b[0m \u001b[1m0s\u001b[0m 1ms/step - attrition_output_accuracy: 0.9116 - attrition_output_loss: 0.2429 - department_output_accuracy: 0.7213 - department_output_loss: 0.6441 - loss: 0.8871 - val_attrition_output_accuracy: 0.8315 - val_attrition_output_loss: 0.4217 - val_department_output_accuracy: 0.6304 - val_department_output_loss: 0.8439 - val_loss: 1.2973\n",
      "Epoch 15/100\n",
      "\u001b[1m35/35\u001b[0m \u001b[32m━━━━━━━━━━━━━━━━━━━━\u001b[0m\u001b[37m\u001b[0m \u001b[1m0s\u001b[0m 1ms/step - attrition_output_accuracy: 0.8995 - attrition_output_loss: 0.2463 - department_output_accuracy: 0.7285 - department_output_loss: 0.6184 - loss: 0.8648 - val_attrition_output_accuracy: 0.8234 - val_attrition_output_loss: 0.4502 - val_department_output_accuracy: 0.5190 - val_department_output_loss: 0.8746 - val_loss: 1.3471\n",
      "Epoch 16/100\n",
      "\u001b[1m35/35\u001b[0m \u001b[32m━━━━━━━━━━━━━━━━━━━━\u001b[0m\u001b[37m\u001b[0m \u001b[1m0s\u001b[0m 1ms/step - attrition_output_accuracy: 0.8930 - attrition_output_loss: 0.2504 - department_output_accuracy: 0.7374 - department_output_loss: 0.6309 - loss: 0.8816 - val_attrition_output_accuracy: 0.8234 - val_attrition_output_loss: 0.4568 - val_department_output_accuracy: 0.5516 - val_department_output_loss: 0.8859 - val_loss: 1.3691\n",
      "Epoch 17/100\n",
      "\u001b[1m35/35\u001b[0m \u001b[32m━━━━━━━━━━━━━━━━━━━━\u001b[0m\u001b[37m\u001b[0m \u001b[1m0s\u001b[0m 1ms/step - attrition_output_accuracy: 0.9125 - attrition_output_loss: 0.2216 - department_output_accuracy: 0.7464 - department_output_loss: 0.5894 - loss: 0.8110 - val_attrition_output_accuracy: 0.8261 - val_attrition_output_loss: 0.4476 - val_department_output_accuracy: 0.5951 - val_department_output_loss: 0.8862 - val_loss: 1.3662\n",
      "Epoch 18/100\n",
      "\u001b[1m35/35\u001b[0m \u001b[32m━━━━━━━━━━━━━━━━━━━━\u001b[0m\u001b[37m\u001b[0m \u001b[1m0s\u001b[0m 1ms/step - attrition_output_accuracy: 0.9090 - attrition_output_loss: 0.2300 - department_output_accuracy: 0.7360 - department_output_loss: 0.6154 - loss: 0.8456 - val_attrition_output_accuracy: 0.8261 - val_attrition_output_loss: 0.4415 - val_department_output_accuracy: 0.5707 - val_department_output_loss: 0.9008 - val_loss: 1.3708\n",
      "Epoch 19/100\n",
      "\u001b[1m35/35\u001b[0m \u001b[32m━━━━━━━━━━━━━━━━━━━━\u001b[0m\u001b[37m\u001b[0m \u001b[1m0s\u001b[0m 1ms/step - attrition_output_accuracy: 0.9018 - attrition_output_loss: 0.2281 - department_output_accuracy: 0.7659 - department_output_loss: 0.5759 - loss: 0.8040 - val_attrition_output_accuracy: 0.8234 - val_attrition_output_loss: 0.4655 - val_department_output_accuracy: 0.5924 - val_department_output_loss: 0.9059 - val_loss: 1.4020\n",
      "Epoch 20/100\n",
      "\u001b[1m35/35\u001b[0m \u001b[32m━━━━━━━━━━━━━━━━━━━━\u001b[0m\u001b[37m\u001b[0m \u001b[1m0s\u001b[0m 1ms/step - attrition_output_accuracy: 0.9233 - attrition_output_loss: 0.2136 - department_output_accuracy: 0.7790 - department_output_loss: 0.5393 - loss: 0.7529 - val_attrition_output_accuracy: 0.8179 - val_attrition_output_loss: 0.5226 - val_department_output_accuracy: 0.6005 - val_department_output_loss: 0.9114 - val_loss: 1.4663\n",
      "Epoch 21/100\n",
      "\u001b[1m35/35\u001b[0m \u001b[32m━━━━━━━━━━━━━━━━━━━━\u001b[0m\u001b[37m\u001b[0m \u001b[1m0s\u001b[0m 1ms/step - attrition_output_accuracy: 0.9200 - attrition_output_loss: 0.2034 - department_output_accuracy: 0.7920 - department_output_loss: 0.5350 - loss: 0.7383 - val_attrition_output_accuracy: 0.8125 - val_attrition_output_loss: 0.4871 - val_department_output_accuracy: 0.5652 - val_department_output_loss: 0.9302 - val_loss: 1.4477\n",
      "Epoch 22/100\n",
      "\u001b[1m35/35\u001b[0m \u001b[32m━━━━━━━━━━━━━━━━━━━━\u001b[0m\u001b[37m\u001b[0m \u001b[1m0s\u001b[0m 1ms/step - attrition_output_accuracy: 0.9212 - attrition_output_loss: 0.1876 - department_output_accuracy: 0.8003 - department_output_loss: 0.5224 - loss: 0.7100 - val_attrition_output_accuracy: 0.8071 - val_attrition_output_loss: 0.4808 - val_department_output_accuracy: 0.5870 - val_department_output_loss: 0.9514 - val_loss: 1.4593\n",
      "Epoch 23/100\n",
      "\u001b[1m35/35\u001b[0m \u001b[32m━━━━━━━━━━━━━━━━━━━━\u001b[0m\u001b[37m\u001b[0m \u001b[1m0s\u001b[0m 1ms/step - attrition_output_accuracy: 0.9303 - attrition_output_loss: 0.2002 - department_output_accuracy: 0.8114 - department_output_loss: 0.4639 - loss: 0.6641 - val_attrition_output_accuracy: 0.8207 - val_attrition_output_loss: 0.4969 - val_department_output_accuracy: 0.4918 - val_department_output_loss: 0.9951 - val_loss: 1.5192\n",
      "Epoch 24/100\n",
      "\u001b[1m35/35\u001b[0m \u001b[32m━━━━━━━━━━━━━━━━━━━━\u001b[0m\u001b[37m\u001b[0m \u001b[1m0s\u001b[0m 1ms/step - attrition_output_accuracy: 0.9297 - attrition_output_loss: 0.1783 - department_output_accuracy: 0.7940 - department_output_loss: 0.5246 - loss: 0.7028 - val_attrition_output_accuracy: 0.8071 - val_attrition_output_loss: 0.5237 - val_department_output_accuracy: 0.5489 - val_department_output_loss: 0.9915 - val_loss: 1.5457\n",
      "Epoch 25/100\n",
      "\u001b[1m35/35\u001b[0m \u001b[32m━━━━━━━━━━━━━━━━━━━━\u001b[0m\u001b[37m\u001b[0m \u001b[1m0s\u001b[0m 1ms/step - attrition_output_accuracy: 0.9305 - attrition_output_loss: 0.1783 - department_output_accuracy: 0.8037 - department_output_loss: 0.5069 - loss: 0.6853 - val_attrition_output_accuracy: 0.8234 - val_attrition_output_loss: 0.5317 - val_department_output_accuracy: 0.5543 - val_department_output_loss: 1.0222 - val_loss: 1.5881\n",
      "Epoch 26/100\n",
      "\u001b[1m35/35\u001b[0m \u001b[32m━━━━━━━━━━━━━━━━━━━━\u001b[0m\u001b[37m\u001b[0m \u001b[1m0s\u001b[0m 1ms/step - attrition_output_accuracy: 0.9316 - attrition_output_loss: 0.1686 - department_output_accuracy: 0.8005 - department_output_loss: 0.4899 - loss: 0.6581 - val_attrition_output_accuracy: 0.8125 - val_attrition_output_loss: 0.5686 - val_department_output_accuracy: 0.5924 - val_department_output_loss: 1.0366 - val_loss: 1.6456\n",
      "Epoch 27/100\n",
      "\u001b[1m35/35\u001b[0m \u001b[32m━━━━━━━━━━━━━━━━━━━━\u001b[0m\u001b[37m\u001b[0m \u001b[1m0s\u001b[0m 1ms/step - attrition_output_accuracy: 0.9314 - attrition_output_loss: 0.1636 - department_output_accuracy: 0.8249 - department_output_loss: 0.4479 - loss: 0.6115 - val_attrition_output_accuracy: 0.8016 - val_attrition_output_loss: 0.5327 - val_department_output_accuracy: 0.5217 - val_department_output_loss: 1.0557 - val_loss: 1.6207\n",
      "Epoch 28/100\n",
      "\u001b[1m35/35\u001b[0m \u001b[32m━━━━━━━━━━━━━━━━━━━━\u001b[0m\u001b[37m\u001b[0m \u001b[1m0s\u001b[0m 996us/step - attrition_output_accuracy: 0.9441 - attrition_output_loss: 0.1603 - department_output_accuracy: 0.8334 - department_output_loss: 0.4322 - loss: 0.5924 - val_attrition_output_accuracy: 0.8152 - val_attrition_output_loss: 0.5631 - val_department_output_accuracy: 0.5842 - val_department_output_loss: 1.0808 - val_loss: 1.6836\n",
      "Epoch 29/100\n",
      "\u001b[1m35/35\u001b[0m \u001b[32m━━━━━━━━━━━━━━━━━━━━\u001b[0m\u001b[37m\u001b[0m \u001b[1m0s\u001b[0m 1ms/step - attrition_output_accuracy: 0.9437 - attrition_output_loss: 0.1614 - department_output_accuracy: 0.8403 - department_output_loss: 0.4093 - loss: 0.5706 - val_attrition_output_accuracy: 0.8125 - val_attrition_output_loss: 0.5771 - val_department_output_accuracy: 0.5408 - val_department_output_loss: 1.1065 - val_loss: 1.7176\n",
      "Epoch 30/100\n",
      "\u001b[1m35/35\u001b[0m \u001b[32m━━━━━━━━━━━━━━━━━━━━\u001b[0m\u001b[37m\u001b[0m \u001b[1m0s\u001b[0m 1ms/step - attrition_output_accuracy: 0.9390 - attrition_output_loss: 0.1446 - department_output_accuracy: 0.8768 - department_output_loss: 0.3806 - loss: 0.5252 - val_attrition_output_accuracy: 0.7908 - val_attrition_output_loss: 0.5652 - val_department_output_accuracy: 0.5598 - val_department_output_loss: 1.1108 - val_loss: 1.7139\n",
      "Epoch 31/100\n",
      "\u001b[1m35/35\u001b[0m \u001b[32m━━━━━━━━━━━━━━━━━━━━\u001b[0m\u001b[37m\u001b[0m \u001b[1m0s\u001b[0m 1ms/step - attrition_output_accuracy: 0.9501 - attrition_output_loss: 0.1331 - department_output_accuracy: 0.8611 - department_output_loss: 0.3939 - loss: 0.5272 - val_attrition_output_accuracy: 0.8207 - val_attrition_output_loss: 0.6082 - val_department_output_accuracy: 0.5408 - val_department_output_loss: 1.1680 - val_loss: 1.8095\n",
      "Epoch 32/100\n",
      "\u001b[1m35/35\u001b[0m \u001b[32m━━━━━━━━━━━━━━━━━━━━\u001b[0m\u001b[37m\u001b[0m \u001b[1m0s\u001b[0m 1ms/step - attrition_output_accuracy: 0.9468 - attrition_output_loss: 0.1181 - department_output_accuracy: 0.8652 - department_output_loss: 0.3663 - loss: 0.4841 - val_attrition_output_accuracy: 0.7935 - val_attrition_output_loss: 0.6423 - val_department_output_accuracy: 0.5408 - val_department_output_loss: 1.1845 - val_loss: 1.8614\n",
      "Epoch 33/100\n",
      "\u001b[1m35/35\u001b[0m \u001b[32m━━━━━━━━━━━━━━━━━━━━\u001b[0m\u001b[37m\u001b[0m \u001b[1m0s\u001b[0m 1ms/step - attrition_output_accuracy: 0.9570 - attrition_output_loss: 0.1253 - department_output_accuracy: 0.8754 - department_output_loss: 0.3480 - loss: 0.4732 - val_attrition_output_accuracy: 0.8125 - val_attrition_output_loss: 0.6139 - val_department_output_accuracy: 0.5543 - val_department_output_loss: 1.2097 - val_loss: 1.8571\n",
      "Epoch 34/100\n",
      "\u001b[1m35/35\u001b[0m \u001b[32m━━━━━━━━━━━━━━━━━━━━\u001b[0m\u001b[37m\u001b[0m \u001b[1m0s\u001b[0m 1ms/step - attrition_output_accuracy: 0.9588 - attrition_output_loss: 0.1327 - department_output_accuracy: 0.8617 - department_output_loss: 0.3537 - loss: 0.4863 - val_attrition_output_accuracy: 0.8071 - val_attrition_output_loss: 0.6317 - val_department_output_accuracy: 0.5652 - val_department_output_loss: 1.2502 - val_loss: 1.9227\n",
      "Epoch 35/100\n",
      "\u001b[1m35/35\u001b[0m \u001b[32m━━━━━━━━━━━━━━━━━━━━\u001b[0m\u001b[37m\u001b[0m \u001b[1m0s\u001b[0m 992us/step - attrition_output_accuracy: 0.9603 - attrition_output_loss: 0.1157 - department_output_accuracy: 0.8898 - department_output_loss: 0.3209 - loss: 0.4367 - val_attrition_output_accuracy: 0.8016 - val_attrition_output_loss: 0.6541 - val_department_output_accuracy: 0.5109 - val_department_output_loss: 1.2455 - val_loss: 1.9385\n",
      "Epoch 36/100\n",
      "\u001b[1m35/35\u001b[0m \u001b[32m━━━━━━━━━━━━━━━━━━━━\u001b[0m\u001b[37m\u001b[0m \u001b[1m0s\u001b[0m 1ms/step - attrition_output_accuracy: 0.9588 - attrition_output_loss: 0.1093 - department_output_accuracy: 0.8966 - department_output_loss: 0.3002 - loss: 0.4092 - val_attrition_output_accuracy: 0.7908 - val_attrition_output_loss: 0.6394 - val_department_output_accuracy: 0.5408 - val_department_output_loss: 1.2853 - val_loss: 1.9667\n",
      "Epoch 37/100\n",
      "\u001b[1m35/35\u001b[0m \u001b[32m━━━━━━━━━━━━━━━━━━━━\u001b[0m\u001b[37m\u001b[0m \u001b[1m0s\u001b[0m 1ms/step - attrition_output_accuracy: 0.9692 - attrition_output_loss: 0.1017 - department_output_accuracy: 0.9146 - department_output_loss: 0.2870 - loss: 0.3886 - val_attrition_output_accuracy: 0.7989 - val_attrition_output_loss: 0.7019 - val_department_output_accuracy: 0.5380 - val_department_output_loss: 1.2996 - val_loss: 2.0448\n",
      "Epoch 38/100\n",
      "\u001b[1m35/35\u001b[0m \u001b[32m━━━━━━━━━━━━━━━━━━━━\u001b[0m\u001b[37m\u001b[0m \u001b[1m0s\u001b[0m 1ms/step - attrition_output_accuracy: 0.9681 - attrition_output_loss: 0.0973 - department_output_accuracy: 0.9146 - department_output_loss: 0.2753 - loss: 0.3725 - val_attrition_output_accuracy: 0.7962 - val_attrition_output_loss: 0.6838 - val_department_output_accuracy: 0.5598 - val_department_output_loss: 1.3620 - val_loss: 2.0906\n",
      "Epoch 39/100\n",
      "\u001b[1m35/35\u001b[0m \u001b[32m━━━━━━━━━━━━━━━━━━━━\u001b[0m\u001b[37m\u001b[0m \u001b[1m0s\u001b[0m 1ms/step - attrition_output_accuracy: 0.9758 - attrition_output_loss: 0.0834 - department_output_accuracy: 0.9176 - department_output_loss: 0.2571 - loss: 0.3406 - val_attrition_output_accuracy: 0.7962 - val_attrition_output_loss: 0.7131 - val_department_output_accuracy: 0.5054 - val_department_output_loss: 1.3777 - val_loss: 2.1405\n",
      "Epoch 40/100\n",
      "\u001b[1m35/35\u001b[0m \u001b[32m━━━━━━━━━━━━━━━━━━━━\u001b[0m\u001b[37m\u001b[0m \u001b[1m0s\u001b[0m 1ms/step - attrition_output_accuracy: 0.9724 - attrition_output_loss: 0.0754 - department_output_accuracy: 0.9068 - department_output_loss: 0.2704 - loss: 0.3458 - val_attrition_output_accuracy: 0.7799 - val_attrition_output_loss: 0.7050 - val_department_output_accuracy: 0.5027 - val_department_output_loss: 1.4258 - val_loss: 2.1697\n",
      "Epoch 41/100\n",
      "\u001b[1m35/35\u001b[0m \u001b[32m━━━━━━━━━━━━━━━━━━━━\u001b[0m\u001b[37m\u001b[0m \u001b[1m0s\u001b[0m 1ms/step - attrition_output_accuracy: 0.9750 - attrition_output_loss: 0.0818 - department_output_accuracy: 0.9219 - department_output_loss: 0.2581 - loss: 0.3400 - val_attrition_output_accuracy: 0.7663 - val_attrition_output_loss: 0.7794 - val_department_output_accuracy: 0.5299 - val_department_output_loss: 1.5150 - val_loss: 2.3386\n",
      "Epoch 42/100\n",
      "\u001b[1m35/35\u001b[0m \u001b[32m━━━━━━━━━━━━━━━━━━━━\u001b[0m\u001b[37m\u001b[0m \u001b[1m0s\u001b[0m 1ms/step - attrition_output_accuracy: 0.9769 - attrition_output_loss: 0.0769 - department_output_accuracy: 0.9180 - department_output_loss: 0.2514 - loss: 0.3285 - val_attrition_output_accuracy: 0.7853 - val_attrition_output_loss: 0.7255 - val_department_output_accuracy: 0.5435 - val_department_output_loss: 1.5044 - val_loss: 2.2760\n",
      "Epoch 43/100\n",
      "\u001b[1m35/35\u001b[0m \u001b[32m━━━━━━━━━━━━━━━━━━━━\u001b[0m\u001b[37m\u001b[0m \u001b[1m0s\u001b[0m 1000us/step - attrition_output_accuracy: 0.9756 - attrition_output_loss: 0.0820 - department_output_accuracy: 0.9364 - department_output_loss: 0.2130 - loss: 0.2951 - val_attrition_output_accuracy: 0.7826 - val_attrition_output_loss: 0.7900 - val_department_output_accuracy: 0.5408 - val_department_output_loss: 1.5191 - val_loss: 2.3637\n",
      "Epoch 44/100\n",
      "\u001b[1m35/35\u001b[0m \u001b[32m━━━━━━━━━━━━━━━━━━━━\u001b[0m\u001b[37m\u001b[0m \u001b[1m0s\u001b[0m 1ms/step - attrition_output_accuracy: 0.9769 - attrition_output_loss: 0.0729 - department_output_accuracy: 0.9501 - department_output_loss: 0.2055 - loss: 0.2783 - val_attrition_output_accuracy: 0.7935 - val_attrition_output_loss: 0.8614 - val_department_output_accuracy: 0.5326 - val_department_output_loss: 1.5257 - val_loss: 2.4418\n",
      "Epoch 45/100\n",
      "\u001b[1m35/35\u001b[0m \u001b[32m━━━━━━━━━━━━━━━━━━━━\u001b[0m\u001b[37m\u001b[0m \u001b[1m0s\u001b[0m 1ms/step - attrition_output_accuracy: 0.9710 - attrition_output_loss: 0.0815 - department_output_accuracy: 0.9462 - department_output_loss: 0.2061 - loss: 0.2878 - val_attrition_output_accuracy: 0.8071 - val_attrition_output_loss: 0.8893 - val_department_output_accuracy: 0.5353 - val_department_output_loss: 1.5845 - val_loss: 2.5259\n",
      "Epoch 46/100\n",
      "\u001b[1m35/35\u001b[0m \u001b[32m━━━━━━━━━━━━━━━━━━━━\u001b[0m\u001b[37m\u001b[0m \u001b[1m0s\u001b[0m 1ms/step - attrition_output_accuracy: 0.9792 - attrition_output_loss: 0.0592 - department_output_accuracy: 0.9443 - department_output_loss: 0.1890 - loss: 0.2480 - val_attrition_output_accuracy: 0.7908 - val_attrition_output_loss: 0.8437 - val_department_output_accuracy: 0.5625 - val_department_output_loss: 1.6009 - val_loss: 2.5050\n",
      "Epoch 47/100\n",
      "\u001b[1m35/35\u001b[0m \u001b[32m━━━━━━━━━━━━━━━━━━━━\u001b[0m\u001b[37m\u001b[0m \u001b[1m0s\u001b[0m 1ms/step - attrition_output_accuracy: 0.9778 - attrition_output_loss: 0.0678 - department_output_accuracy: 0.9462 - department_output_loss: 0.1854 - loss: 0.2533 - val_attrition_output_accuracy: 0.7636 - val_attrition_output_loss: 0.8570 - val_department_output_accuracy: 0.5082 - val_department_output_loss: 1.6754 - val_loss: 2.5845\n",
      "Epoch 48/100\n",
      "\u001b[1m35/35\u001b[0m \u001b[32m━━━━━━━━━━━━━━━━━━━━\u001b[0m\u001b[37m\u001b[0m \u001b[1m0s\u001b[0m 1ms/step - attrition_output_accuracy: 0.9809 - attrition_output_loss: 0.0692 - department_output_accuracy: 0.9472 - department_output_loss: 0.1827 - loss: 0.2519 - val_attrition_output_accuracy: 0.7880 - val_attrition_output_loss: 0.8999 - val_department_output_accuracy: 0.5136 - val_department_output_loss: 1.6913 - val_loss: 2.6497\n",
      "Epoch 49/100\n",
      "\u001b[1m35/35\u001b[0m \u001b[32m━━━━━━━━━━━━━━━━━━━━\u001b[0m\u001b[37m\u001b[0m \u001b[1m0s\u001b[0m 1ms/step - attrition_output_accuracy: 0.9783 - attrition_output_loss: 0.0635 - department_output_accuracy: 0.9486 - department_output_loss: 0.1827 - loss: 0.2461 - val_attrition_output_accuracy: 0.7908 - val_attrition_output_loss: 0.9084 - val_department_output_accuracy: 0.5245 - val_department_output_loss: 1.7089 - val_loss: 2.6830\n",
      "Epoch 50/100\n",
      "\u001b[1m35/35\u001b[0m \u001b[32m━━━━━━━━━━━━━━━━━━━━\u001b[0m\u001b[37m\u001b[0m \u001b[1m0s\u001b[0m 1ms/step - attrition_output_accuracy: 0.9895 - attrition_output_loss: 0.0459 - department_output_accuracy: 0.9642 - department_output_loss: 0.1523 - loss: 0.1982 - val_attrition_output_accuracy: 0.7880 - val_attrition_output_loss: 0.9016 - val_department_output_accuracy: 0.5190 - val_department_output_loss: 1.7559 - val_loss: 2.7170\n",
      "Epoch 51/100\n",
      "\u001b[1m35/35\u001b[0m \u001b[32m━━━━━━━━━━━━━━━━━━━━\u001b[0m\u001b[37m\u001b[0m \u001b[1m0s\u001b[0m 1ms/step - attrition_output_accuracy: 0.9868 - attrition_output_loss: 0.0481 - department_output_accuracy: 0.9786 - department_output_loss: 0.1387 - loss: 0.1868 - val_attrition_output_accuracy: 0.7799 - val_attrition_output_loss: 0.9279 - val_department_output_accuracy: 0.5326 - val_department_output_loss: 1.7811 - val_loss: 2.7772\n",
      "Epoch 52/100\n",
      "\u001b[1m35/35\u001b[0m \u001b[32m━━━━━━━━━━━━━━━━━━━━\u001b[0m\u001b[37m\u001b[0m \u001b[1m0s\u001b[0m 1ms/step - attrition_output_accuracy: 0.9895 - attrition_output_loss: 0.0474 - department_output_accuracy: 0.9686 - department_output_loss: 0.1410 - loss: 0.1884 - val_attrition_output_accuracy: 0.7554 - val_attrition_output_loss: 0.9408 - val_department_output_accuracy: 0.5190 - val_department_output_loss: 1.8202 - val_loss: 2.8220\n",
      "Epoch 53/100\n",
      "\u001b[1m35/35\u001b[0m \u001b[32m━━━━━━━━━━━━━━━━━━━━\u001b[0m\u001b[37m\u001b[0m \u001b[1m0s\u001b[0m 1ms/step - attrition_output_accuracy: 0.9940 - attrition_output_loss: 0.0385 - department_output_accuracy: 0.9805 - department_output_loss: 0.1273 - loss: 0.1656 - val_attrition_output_accuracy: 0.7880 - val_attrition_output_loss: 0.9217 - val_department_output_accuracy: 0.5516 - val_department_output_loss: 1.8851 - val_loss: 2.8851\n",
      "Epoch 54/100\n",
      "\u001b[1m35/35\u001b[0m \u001b[32m━━━━━━━━━━━━━━━━━━━━\u001b[0m\u001b[37m\u001b[0m \u001b[1m0s\u001b[0m 1ms/step - attrition_output_accuracy: 0.9890 - attrition_output_loss: 0.0363 - department_output_accuracy: 0.9744 - department_output_loss: 0.1327 - loss: 0.1691 - val_attrition_output_accuracy: 0.7989 - val_attrition_output_loss: 0.9734 - val_department_output_accuracy: 0.5190 - val_department_output_loss: 1.8751 - val_loss: 2.9197\n",
      "Epoch 55/100\n",
      "\u001b[1m35/35\u001b[0m \u001b[32m━━━━━━━━━━━━━━━━━━━━\u001b[0m\u001b[37m\u001b[0m \u001b[1m0s\u001b[0m 1ms/step - attrition_output_accuracy: 0.9912 - attrition_output_loss: 0.0362 - department_output_accuracy: 0.9800 - department_output_loss: 0.1189 - loss: 0.1550 - val_attrition_output_accuracy: 0.7989 - val_attrition_output_loss: 1.0705 - val_department_output_accuracy: 0.5408 - val_department_output_loss: 1.9084 - val_loss: 3.0508\n",
      "Epoch 56/100\n",
      "\u001b[1m35/35\u001b[0m \u001b[32m━━━━━━━━━━━━━━━━━━━━\u001b[0m\u001b[37m\u001b[0m \u001b[1m0s\u001b[0m 1ms/step - attrition_output_accuracy: 0.9915 - attrition_output_loss: 0.0349 - department_output_accuracy: 0.9793 - department_output_loss: 0.1162 - loss: 0.1513 - val_attrition_output_accuracy: 0.7636 - val_attrition_output_loss: 0.9837 - val_department_output_accuracy: 0.5516 - val_department_output_loss: 1.9545 - val_loss: 3.0114\n",
      "Epoch 57/100\n",
      "\u001b[1m35/35\u001b[0m \u001b[32m━━━━━━━━━━━━━━━━━━━━\u001b[0m\u001b[37m\u001b[0m \u001b[1m0s\u001b[0m 1ms/step - attrition_output_accuracy: 0.9942 - attrition_output_loss: 0.0336 - department_output_accuracy: 0.9741 - department_output_loss: 0.1110 - loss: 0.1447 - val_attrition_output_accuracy: 0.7962 - val_attrition_output_loss: 1.0804 - val_department_output_accuracy: 0.5380 - val_department_output_loss: 2.0241 - val_loss: 3.1846\n",
      "Epoch 58/100\n",
      "\u001b[1m35/35\u001b[0m \u001b[32m━━━━━━━━━━━━━━━━━━━━\u001b[0m\u001b[37m\u001b[0m \u001b[1m0s\u001b[0m 1ms/step - attrition_output_accuracy: 0.9912 - attrition_output_loss: 0.0327 - department_output_accuracy: 0.9745 - department_output_loss: 0.1092 - loss: 0.1418 - val_attrition_output_accuracy: 0.7663 - val_attrition_output_loss: 1.0160 - val_department_output_accuracy: 0.5353 - val_department_output_loss: 2.0312 - val_loss: 3.1290\n",
      "Epoch 59/100\n",
      "\u001b[1m35/35\u001b[0m \u001b[32m━━━━━━━━━━━━━━━━━━━━\u001b[0m\u001b[37m\u001b[0m \u001b[1m0s\u001b[0m 1ms/step - attrition_output_accuracy: 0.9811 - attrition_output_loss: 0.0525 - department_output_accuracy: 0.9796 - department_output_loss: 0.0943 - loss: 0.1468 - val_attrition_output_accuracy: 0.8071 - val_attrition_output_loss: 1.1914 - val_department_output_accuracy: 0.5353 - val_department_output_loss: 2.0443 - val_loss: 3.3168\n",
      "Epoch 60/100\n",
      "\u001b[1m35/35\u001b[0m \u001b[32m━━━━━━━━━━━━━━━━━━━━\u001b[0m\u001b[37m\u001b[0m \u001b[1m0s\u001b[0m 1ms/step - attrition_output_accuracy: 0.9886 - attrition_output_loss: 0.0388 - department_output_accuracy: 0.9800 - department_output_loss: 0.1004 - loss: 0.1393 - val_attrition_output_accuracy: 0.7799 - val_attrition_output_loss: 1.0737 - val_department_output_accuracy: 0.5082 - val_department_output_loss: 2.1147 - val_loss: 3.2719\n",
      "Epoch 61/100\n",
      "\u001b[1m35/35\u001b[0m \u001b[32m━━━━━━━━━━━━━━━━━━━━\u001b[0m\u001b[37m\u001b[0m \u001b[1m0s\u001b[0m 1ms/step - attrition_output_accuracy: 0.9919 - attrition_output_loss: 0.0316 - department_output_accuracy: 0.9850 - department_output_loss: 0.0821 - loss: 0.1137 - val_attrition_output_accuracy: 0.7908 - val_attrition_output_loss: 1.1097 - val_department_output_accuracy: 0.5326 - val_department_output_loss: 2.1754 - val_loss: 3.3666\n",
      "Epoch 62/100\n",
      "\u001b[1m35/35\u001b[0m \u001b[32m━━━━━━━━━━━━━━━━━━━━\u001b[0m\u001b[37m\u001b[0m \u001b[1m0s\u001b[0m 1ms/step - attrition_output_accuracy: 0.9936 - attrition_output_loss: 0.0227 - department_output_accuracy: 0.9910 - department_output_loss: 0.0845 - loss: 0.1073 - val_attrition_output_accuracy: 0.7880 - val_attrition_output_loss: 1.1043 - val_department_output_accuracy: 0.5380 - val_department_output_loss: 2.2112 - val_loss: 3.4101\n",
      "Epoch 63/100\n",
      "\u001b[1m35/35\u001b[0m \u001b[32m━━━━━━━━━━━━━━━━━━━━\u001b[0m\u001b[37m\u001b[0m \u001b[1m0s\u001b[0m 991us/step - attrition_output_accuracy: 0.9934 - attrition_output_loss: 0.0322 - department_output_accuracy: 0.9889 - department_output_loss: 0.0807 - loss: 0.1130 - val_attrition_output_accuracy: 0.7908 - val_attrition_output_loss: 1.1058 - val_department_output_accuracy: 0.5163 - val_department_output_loss: 2.1982 - val_loss: 3.3809\n",
      "Epoch 64/100\n",
      "\u001b[1m35/35\u001b[0m \u001b[32m━━━━━━━━━━━━━━━━━━━━\u001b[0m\u001b[37m\u001b[0m \u001b[1m0s\u001b[0m 1ms/step - attrition_output_accuracy: 0.9971 - attrition_output_loss: 0.0236 - department_output_accuracy: 0.9852 - department_output_loss: 0.0793 - loss: 0.1029 - val_attrition_output_accuracy: 0.7826 - val_attrition_output_loss: 1.2131 - val_department_output_accuracy: 0.5217 - val_department_output_loss: 2.3412 - val_loss: 3.6375\n",
      "Epoch 65/100\n",
      "\u001b[1m35/35\u001b[0m \u001b[32m━━━━━━━━━━━━━━━━━━━━\u001b[0m\u001b[37m\u001b[0m \u001b[1m0s\u001b[0m 1ms/step - attrition_output_accuracy: 0.9949 - attrition_output_loss: 0.0223 - department_output_accuracy: 0.9874 - department_output_loss: 0.0819 - loss: 0.1041 - val_attrition_output_accuracy: 0.7962 - val_attrition_output_loss: 1.1827 - val_department_output_accuracy: 0.5299 - val_department_output_loss: 2.3161 - val_loss: 3.5851\n",
      "Epoch 66/100\n",
      "\u001b[1m35/35\u001b[0m \u001b[32m━━━━━━━━━━━━━━━━━━━━\u001b[0m\u001b[37m\u001b[0m \u001b[1m0s\u001b[0m 998us/step - attrition_output_accuracy: 0.9979 - attrition_output_loss: 0.0196 - department_output_accuracy: 0.9826 - department_output_loss: 0.0764 - loss: 0.0960 - val_attrition_output_accuracy: 0.7717 - val_attrition_output_loss: 1.1865 - val_department_output_accuracy: 0.5435 - val_department_output_loss: 2.2888 - val_loss: 3.5652\n",
      "Epoch 67/100\n",
      "\u001b[1m35/35\u001b[0m \u001b[32m━━━━━━━━━━━━━━━━━━━━\u001b[0m\u001b[37m\u001b[0m \u001b[1m0s\u001b[0m 1ms/step - attrition_output_accuracy: 0.9958 - attrition_output_loss: 0.0224 - department_output_accuracy: 0.9878 - department_output_loss: 0.0741 - loss: 0.0966 - val_attrition_output_accuracy: 0.8098 - val_attrition_output_loss: 1.2708 - val_department_output_accuracy: 0.5109 - val_department_output_loss: 2.3587 - val_loss: 3.7127\n",
      "Epoch 68/100\n",
      "\u001b[1m35/35\u001b[0m \u001b[32m━━━━━━━━━━━━━━━━━━━━\u001b[0m\u001b[37m\u001b[0m \u001b[1m0s\u001b[0m 1ms/step - attrition_output_accuracy: 0.9977 - attrition_output_loss: 0.0180 - department_output_accuracy: 0.9954 - department_output_loss: 0.0602 - loss: 0.0781 - val_attrition_output_accuracy: 0.7989 - val_attrition_output_loss: 1.2562 - val_department_output_accuracy: 0.5299 - val_department_output_loss: 2.4008 - val_loss: 3.7501\n",
      "Epoch 69/100\n",
      "\u001b[1m35/35\u001b[0m \u001b[32m━━━━━━━━━━━━━━━━━━━━\u001b[0m\u001b[37m\u001b[0m \u001b[1m0s\u001b[0m 1ms/step - attrition_output_accuracy: 0.9986 - attrition_output_loss: 0.0181 - department_output_accuracy: 0.9933 - department_output_loss: 0.0623 - loss: 0.0805 - val_attrition_output_accuracy: 0.7826 - val_attrition_output_loss: 1.2666 - val_department_output_accuracy: 0.5299 - val_department_output_loss: 2.4338 - val_loss: 3.8003\n",
      "Epoch 70/100\n",
      "\u001b[1m35/35\u001b[0m \u001b[32m━━━━━━━━━━━━━━━━━━━━\u001b[0m\u001b[37m\u001b[0m \u001b[1m0s\u001b[0m 996us/step - attrition_output_accuracy: 0.9930 - attrition_output_loss: 0.0205 - department_output_accuracy: 0.9952 - department_output_loss: 0.0529 - loss: 0.0733 - val_attrition_output_accuracy: 0.8016 - val_attrition_output_loss: 1.3166 - val_department_output_accuracy: 0.5136 - val_department_output_loss: 2.4676 - val_loss: 3.8663\n",
      "Epoch 71/100\n",
      "\u001b[1m35/35\u001b[0m \u001b[32m━━━━━━━━━━━━━━━━━━━━\u001b[0m\u001b[37m\u001b[0m \u001b[1m0s\u001b[0m 984us/step - attrition_output_accuracy: 0.9980 - attrition_output_loss: 0.0192 - department_output_accuracy: 0.9929 - department_output_loss: 0.0591 - loss: 0.0784 - val_attrition_output_accuracy: 0.7908 - val_attrition_output_loss: 1.3100 - val_department_output_accuracy: 0.5272 - val_department_output_loss: 2.4869 - val_loss: 3.9039\n",
      "Epoch 72/100\n",
      "\u001b[1m35/35\u001b[0m \u001b[32m━━━━━━━━━━━━━━━━━━━━\u001b[0m\u001b[37m\u001b[0m \u001b[1m0s\u001b[0m 984us/step - attrition_output_accuracy: 0.9994 - attrition_output_loss: 0.0150 - department_output_accuracy: 0.9963 - department_output_loss: 0.0471 - loss: 0.0621 - val_attrition_output_accuracy: 0.7690 - val_attrition_output_loss: 1.2969 - val_department_output_accuracy: 0.5217 - val_department_output_loss: 2.5364 - val_loss: 3.9273\n",
      "Epoch 73/100\n",
      "\u001b[1m35/35\u001b[0m \u001b[32m━━━━━━━━━━━━━━━━━━━━\u001b[0m\u001b[37m\u001b[0m \u001b[1m0s\u001b[0m 999us/step - attrition_output_accuracy: 0.9964 - attrition_output_loss: 0.0187 - department_output_accuracy: 0.9949 - department_output_loss: 0.0443 - loss: 0.0630 - val_attrition_output_accuracy: 0.7717 - val_attrition_output_loss: 1.2711 - val_department_output_accuracy: 0.4946 - val_department_output_loss: 2.6086 - val_loss: 3.9637\n",
      "Epoch 74/100\n",
      "\u001b[1m35/35\u001b[0m \u001b[32m━━━━━━━━━━━━━━━━━━━━\u001b[0m\u001b[37m\u001b[0m \u001b[1m0s\u001b[0m 1ms/step - attrition_output_accuracy: 0.9902 - attrition_output_loss: 0.0231 - department_output_accuracy: 0.9935 - department_output_loss: 0.0536 - loss: 0.0767 - val_attrition_output_accuracy: 0.7880 - val_attrition_output_loss: 1.3347 - val_department_output_accuracy: 0.4918 - val_department_output_loss: 2.5990 - val_loss: 4.0281\n",
      "Epoch 75/100\n",
      "\u001b[1m35/35\u001b[0m \u001b[32m━━━━━━━━━━━━━━━━━━━━\u001b[0m\u001b[37m\u001b[0m \u001b[1m0s\u001b[0m 1ms/step - attrition_output_accuracy: 0.9984 - attrition_output_loss: 0.0133 - department_output_accuracy: 0.9962 - department_output_loss: 0.0479 - loss: 0.0612 - val_attrition_output_accuracy: 0.7690 - val_attrition_output_loss: 1.3281 - val_department_output_accuracy: 0.4837 - val_department_output_loss: 2.6812 - val_loss: 4.0940\n",
      "Epoch 76/100\n",
      "\u001b[1m35/35\u001b[0m \u001b[32m━━━━━━━━━━━━━━━━━━━━\u001b[0m\u001b[37m\u001b[0m \u001b[1m0s\u001b[0m 1ms/step - attrition_output_accuracy: 0.9998 - attrition_output_loss: 0.0108 - department_output_accuracy: 0.9939 - department_output_loss: 0.0437 - loss: 0.0546 - val_attrition_output_accuracy: 0.7989 - val_attrition_output_loss: 1.3975 - val_department_output_accuracy: 0.5136 - val_department_output_loss: 2.7022 - val_loss: 4.2039\n",
      "Epoch 77/100\n",
      "\u001b[1m35/35\u001b[0m \u001b[32m━━━━━━━━━━━━━━━━━━━━\u001b[0m\u001b[37m\u001b[0m \u001b[1m0s\u001b[0m 1ms/step - attrition_output_accuracy: 0.9998 - attrition_output_loss: 0.0101 - department_output_accuracy: 0.9968 - department_output_loss: 0.0390 - loss: 0.0491 - val_attrition_output_accuracy: 0.7717 - val_attrition_output_loss: 1.3693 - val_department_output_accuracy: 0.5109 - val_department_output_loss: 2.7348 - val_loss: 4.2098\n",
      "Epoch 78/100\n",
      "\u001b[1m35/35\u001b[0m \u001b[32m━━━━━━━━━━━━━━━━━━━━\u001b[0m\u001b[37m\u001b[0m \u001b[1m0s\u001b[0m 1ms/step - attrition_output_accuracy: 0.9986 - attrition_output_loss: 0.0112 - department_output_accuracy: 0.9947 - department_output_loss: 0.0417 - loss: 0.0530 - val_attrition_output_accuracy: 0.7880 - val_attrition_output_loss: 1.4964 - val_department_output_accuracy: 0.5000 - val_department_output_loss: 2.7218 - val_loss: 4.3162\n",
      "Epoch 79/100\n",
      "\u001b[1m35/35\u001b[0m \u001b[32m━━━━━━━━━━━━━━━━━━━━\u001b[0m\u001b[37m\u001b[0m \u001b[1m0s\u001b[0m 1ms/step - attrition_output_accuracy: 0.9990 - attrition_output_loss: 0.0093 - department_output_accuracy: 0.9971 - department_output_loss: 0.0382 - loss: 0.0475 - val_attrition_output_accuracy: 0.7853 - val_attrition_output_loss: 1.3702 - val_department_output_accuracy: 0.5000 - val_department_output_loss: 2.7552 - val_loss: 4.2267\n",
      "Epoch 80/100\n",
      "\u001b[1m35/35\u001b[0m \u001b[32m━━━━━━━━━━━━━━━━━━━━\u001b[0m\u001b[37m\u001b[0m \u001b[1m0s\u001b[0m 1ms/step - attrition_output_accuracy: 0.9964 - attrition_output_loss: 0.0133 - department_output_accuracy: 1.0000 - department_output_loss: 0.0378 - loss: 0.0511 - val_attrition_output_accuracy: 0.7880 - val_attrition_output_loss: 1.4224 - val_department_output_accuracy: 0.5054 - val_department_output_loss: 2.8162 - val_loss: 4.3477\n",
      "Epoch 81/100\n",
      "\u001b[1m35/35\u001b[0m \u001b[32m━━━━━━━━━━━━━━━━━━━━\u001b[0m\u001b[37m\u001b[0m \u001b[1m0s\u001b[0m 1ms/step - attrition_output_accuracy: 0.9987 - attrition_output_loss: 0.0099 - department_output_accuracy: 0.9976 - department_output_loss: 0.0304 - loss: 0.0403 - val_attrition_output_accuracy: 0.7935 - val_attrition_output_loss: 1.4974 - val_department_output_accuracy: 0.5272 - val_department_output_loss: 2.8114 - val_loss: 4.4138\n",
      "Epoch 82/100\n",
      "\u001b[1m35/35\u001b[0m \u001b[32m━━━━━━━━━━━━━━━━━━━━\u001b[0m\u001b[37m\u001b[0m \u001b[1m0s\u001b[0m 1ms/step - attrition_output_accuracy: 0.9991 - attrition_output_loss: 0.0101 - department_output_accuracy: 0.9989 - department_output_loss: 0.0291 - loss: 0.0392 - val_attrition_output_accuracy: 0.7527 - val_attrition_output_loss: 1.4047 - val_department_output_accuracy: 0.4973 - val_department_output_loss: 2.8416 - val_loss: 4.3526\n",
      "Epoch 83/100\n",
      "\u001b[1m35/35\u001b[0m \u001b[32m━━━━━━━━━━━━━━━━━━━━\u001b[0m\u001b[37m\u001b[0m \u001b[1m0s\u001b[0m 1ms/step - attrition_output_accuracy: 0.9983 - attrition_output_loss: 0.0155 - department_output_accuracy: 1.0000 - department_output_loss: 0.0256 - loss: 0.0411 - val_attrition_output_accuracy: 0.7609 - val_attrition_output_loss: 1.4553 - val_department_output_accuracy: 0.5190 - val_department_output_loss: 2.8901 - val_loss: 4.4491\n",
      "Epoch 84/100\n",
      "\u001b[1m35/35\u001b[0m \u001b[32m━━━━━━━━━━━━━━━━━━━━\u001b[0m\u001b[37m\u001b[0m \u001b[1m0s\u001b[0m 1ms/step - attrition_output_accuracy: 0.9992 - attrition_output_loss: 0.0105 - department_output_accuracy: 0.9990 - department_output_loss: 0.0316 - loss: 0.0420 - val_attrition_output_accuracy: 0.7962 - val_attrition_output_loss: 1.5191 - val_department_output_accuracy: 0.5109 - val_department_output_loss: 2.9206 - val_loss: 4.5472\n",
      "Epoch 85/100\n",
      "\u001b[1m35/35\u001b[0m \u001b[32m━━━━━━━━━━━━━━━━━━━━\u001b[0m\u001b[37m\u001b[0m \u001b[1m0s\u001b[0m 1ms/step - attrition_output_accuracy: 0.9945 - attrition_output_loss: 0.0135 - department_output_accuracy: 0.9995 - department_output_loss: 0.0285 - loss: 0.0420 - val_attrition_output_accuracy: 0.7826 - val_attrition_output_loss: 1.5350 - val_department_output_accuracy: 0.5462 - val_department_output_loss: 2.9939 - val_loss: 4.6525\n",
      "Epoch 86/100\n",
      "\u001b[1m35/35\u001b[0m \u001b[32m━━━━━━━━━━━━━━━━━━━━\u001b[0m\u001b[37m\u001b[0m \u001b[1m0s\u001b[0m 1ms/step - attrition_output_accuracy: 0.9971 - attrition_output_loss: 0.0095 - department_output_accuracy: 0.9986 - department_output_loss: 0.0286 - loss: 0.0381 - val_attrition_output_accuracy: 0.8071 - val_attrition_output_loss: 1.5589 - val_department_output_accuracy: 0.5163 - val_department_output_loss: 2.9562 - val_loss: 4.6248\n",
      "Epoch 87/100\n",
      "\u001b[1m35/35\u001b[0m \u001b[32m━━━━━━━━━━━━━━━━━━━━\u001b[0m\u001b[37m\u001b[0m \u001b[1m0s\u001b[0m 1ms/step - attrition_output_accuracy: 0.9992 - attrition_output_loss: 0.0081 - department_output_accuracy: 0.9989 - department_output_loss: 0.0221 - loss: 0.0303 - val_attrition_output_accuracy: 0.7690 - val_attrition_output_loss: 1.5017 - val_department_output_accuracy: 0.5136 - val_department_output_loss: 2.9993 - val_loss: 4.6068\n",
      "Epoch 88/100\n",
      "\u001b[1m35/35\u001b[0m \u001b[32m━━━━━━━━━━━━━━━━━━━━\u001b[0m\u001b[37m\u001b[0m \u001b[1m0s\u001b[0m 1ms/step - attrition_output_accuracy: 0.9992 - attrition_output_loss: 0.0084 - department_output_accuracy: 1.0000 - department_output_loss: 0.0224 - loss: 0.0306 - val_attrition_output_accuracy: 0.7935 - val_attrition_output_loss: 1.5421 - val_department_output_accuracy: 0.5299 - val_department_output_loss: 3.0678 - val_loss: 4.7179\n",
      "Epoch 89/100\n",
      "\u001b[1m35/35\u001b[0m \u001b[32m━━━━━━━━━━━━━━━━━━━━\u001b[0m\u001b[37m\u001b[0m \u001b[1m0s\u001b[0m 1ms/step - attrition_output_accuracy: 0.9922 - attrition_output_loss: 0.0236 - department_output_accuracy: 0.9991 - department_output_loss: 0.0221 - loss: 0.0457 - val_attrition_output_accuracy: 0.7935 - val_attrition_output_loss: 1.5654 - val_department_output_accuracy: 0.5109 - val_department_output_loss: 3.0390 - val_loss: 4.7145\n",
      "Epoch 90/100\n",
      "\u001b[1m35/35\u001b[0m \u001b[32m━━━━━━━━━━━━━━━━━━━━\u001b[0m\u001b[37m\u001b[0m \u001b[1m0s\u001b[0m 1ms/step - attrition_output_accuracy: 0.9909 - attrition_output_loss: 0.0259 - department_output_accuracy: 0.9952 - department_output_loss: 0.0255 - loss: 0.0514 - val_attrition_output_accuracy: 0.7527 - val_attrition_output_loss: 1.4780 - val_department_output_accuracy: 0.5082 - val_department_output_loss: 3.0658 - val_loss: 4.6427\n",
      "Epoch 91/100\n",
      "\u001b[1m35/35\u001b[0m \u001b[32m━━━━━━━━━━━━━━━━━━━━\u001b[0m\u001b[37m\u001b[0m \u001b[1m0s\u001b[0m 1ms/step - attrition_output_accuracy: 0.9923 - attrition_output_loss: 0.0207 - department_output_accuracy: 0.9998 - department_output_loss: 0.0191 - loss: 0.0399 - val_attrition_output_accuracy: 0.7500 - val_attrition_output_loss: 1.4877 - val_department_output_accuracy: 0.5190 - val_department_output_loss: 3.0975 - val_loss: 4.6996\n",
      "Epoch 92/100\n",
      "\u001b[1m35/35\u001b[0m \u001b[32m━━━━━━━━━━━━━━━━━━━━\u001b[0m\u001b[37m\u001b[0m \u001b[1m0s\u001b[0m 1ms/step - attrition_output_accuracy: 0.9943 - attrition_output_loss: 0.0228 - department_output_accuracy: 0.9991 - department_output_loss: 0.0214 - loss: 0.0442 - val_attrition_output_accuracy: 0.7554 - val_attrition_output_loss: 1.7174 - val_department_output_accuracy: 0.5272 - val_department_output_loss: 3.1411 - val_loss: 4.9832\n",
      "Epoch 93/100\n",
      "\u001b[1m35/35\u001b[0m \u001b[32m━━━━━━━━━━━━━━━━━━━━\u001b[0m\u001b[37m\u001b[0m \u001b[1m0s\u001b[0m 1ms/step - attrition_output_accuracy: 0.9878 - attrition_output_loss: 0.0257 - department_output_accuracy: 0.9920 - department_output_loss: 0.0407 - loss: 0.0664 - val_attrition_output_accuracy: 0.7582 - val_attrition_output_loss: 1.5281 - val_department_output_accuracy: 0.5163 - val_department_output_loss: 3.0151 - val_loss: 4.6455\n",
      "Epoch 94/100\n",
      "\u001b[1m35/35\u001b[0m \u001b[32m━━━━━━━━━━━━━━━━━━━━\u001b[0m\u001b[37m\u001b[0m \u001b[1m0s\u001b[0m 1ms/step - attrition_output_accuracy: 0.9906 - attrition_output_loss: 0.0293 - department_output_accuracy: 0.9796 - department_output_loss: 0.0694 - loss: 0.0987 - val_attrition_output_accuracy: 0.7880 - val_attrition_output_loss: 1.6528 - val_department_output_accuracy: 0.5136 - val_department_output_loss: 2.9908 - val_loss: 4.7477\n",
      "Epoch 95/100\n",
      "\u001b[1m35/35\u001b[0m \u001b[32m━━━━━━━━━━━━━━━━━━━━\u001b[0m\u001b[37m\u001b[0m \u001b[1m0s\u001b[0m 1ms/step - attrition_output_accuracy: 0.9900 - attrition_output_loss: 0.0294 - department_output_accuracy: 0.9771 - department_output_loss: 0.0898 - loss: 0.1192 - val_attrition_output_accuracy: 0.7554 - val_attrition_output_loss: 1.6088 - val_department_output_accuracy: 0.4837 - val_department_output_loss: 3.4158 - val_loss: 5.0983\n",
      "Epoch 96/100\n",
      "\u001b[1m35/35\u001b[0m \u001b[32m━━━━━━━━━━━━━━━━━━━━\u001b[0m\u001b[37m\u001b[0m \u001b[1m0s\u001b[0m 1ms/step - attrition_output_accuracy: 0.9969 - attrition_output_loss: 0.0169 - department_output_accuracy: 0.9824 - department_output_loss: 0.0628 - loss: 0.0798 - val_attrition_output_accuracy: 0.7908 - val_attrition_output_loss: 1.5816 - val_department_output_accuracy: 0.5408 - val_department_output_loss: 3.1854 - val_loss: 4.8722\n",
      "Epoch 97/100\n",
      "\u001b[1m35/35\u001b[0m \u001b[32m━━━━━━━━━━━━━━━━━━━━\u001b[0m\u001b[37m\u001b[0m \u001b[1m0s\u001b[0m 1ms/step - attrition_output_accuracy: 0.9985 - attrition_output_loss: 0.0120 - department_output_accuracy: 0.9796 - department_output_loss: 0.0747 - loss: 0.0868 - val_attrition_output_accuracy: 0.7908 - val_attrition_output_loss: 1.6213 - val_department_output_accuracy: 0.5163 - val_department_output_loss: 3.0717 - val_loss: 4.8034\n",
      "Epoch 98/100\n",
      "\u001b[1m35/35\u001b[0m \u001b[32m━━━━━━━━━━━━━━━━━━━━\u001b[0m\u001b[37m\u001b[0m \u001b[1m0s\u001b[0m 1ms/step - attrition_output_accuracy: 0.9984 - attrition_output_loss: 0.0070 - department_output_accuracy: 0.9922 - department_output_loss: 0.0396 - loss: 0.0467 - val_attrition_output_accuracy: 0.7772 - val_attrition_output_loss: 1.6244 - val_department_output_accuracy: 0.5054 - val_department_output_loss: 3.1721 - val_loss: 4.8870\n",
      "Epoch 99/100\n",
      "\u001b[1m35/35\u001b[0m \u001b[32m━━━━━━━━━━━━━━━━━━━━\u001b[0m\u001b[37m\u001b[0m \u001b[1m0s\u001b[0m 1ms/step - attrition_output_accuracy: 0.9997 - attrition_output_loss: 0.0070 - department_output_accuracy: 0.9992 - department_output_loss: 0.0249 - loss: 0.0319 - val_attrition_output_accuracy: 0.7880 - val_attrition_output_loss: 1.6370 - val_department_output_accuracy: 0.4837 - val_department_output_loss: 3.2269 - val_loss: 4.9602\n",
      "Epoch 100/100\n",
      "\u001b[1m35/35\u001b[0m \u001b[32m━━━━━━━━━━━━━━━━━━━━\u001b[0m\u001b[37m\u001b[0m \u001b[1m0s\u001b[0m 1ms/step - attrition_output_accuracy: 0.9991 - attrition_output_loss: 0.0057 - department_output_accuracy: 0.9990 - department_output_loss: 0.0213 - loss: 0.0271 - val_attrition_output_accuracy: 0.8043 - val_attrition_output_loss: 1.7085 - val_department_output_accuracy: 0.5299 - val_department_output_loss: 3.2408 - val_loss: 5.0733\n"
     ]
    },
    {
     "data": {
      "text/plain": [
       "<keras.src.callbacks.history.History at 0x35d82c8c0>"
      ]
     },
     "execution_count": 16,
     "metadata": {},
     "output_type": "execute_result"
    }
   ],
   "source": [
    "# Train the model\n",
    "model.fit(\n",
    "    X_train_scaled,\n",
    "    {\n",
    "        'department_output': y_train_department,\n",
    "        'attrition_output': y_train_attrition\n",
    "    },\n",
    "    epochs=100,\n",
    "    batch_size=32,\n",
    "    validation_data=(X_test_scaled, {\n",
    "        'department_output': y_test_department,\n",
    "        'attrition_output': y_test_attrition\n",
    "    })\n",
    ")\n"
   ]
  },
  {
   "cell_type": "code",
   "execution_count": 17,
   "metadata": {
    "colab": {
     "base_uri": "https://localhost:8080/"
    },
    "executionInfo": {
     "elapsed": 379,
     "status": "ok",
     "timestamp": 1730699259894,
     "user": {
      "displayName": "Alexander Booth",
      "userId": "02269714993535573104"
     },
     "user_tz": 360
    },
    "id": "VsMoaQlgGc3U",
    "outputId": "636c85ba-ee63-4087-b7d1-00b408f1055a"
   },
   "outputs": [
    {
     "name": "stdout",
     "output_type": "stream",
     "text": [
      "\u001b[1m12/12\u001b[0m \u001b[32m━━━━━━━━━━━━━━━━━━━━\u001b[0m\u001b[37m\u001b[0m \u001b[1m0s\u001b[0m 949us/step - attrition_output_accuracy: 0.7735 - attrition_output_loss: 1.9901 - department_output_accuracy: 0.5461 - department_output_loss: 3.1345 - loss: 5.1437\n"
     ]
    },
    {
     "data": {
      "text/plain": [
       "{'attrition_output_accuracy': 0.804347813129425,\n",
       " 'attrition_output_loss': 1.708520770072937,\n",
       " 'department_output_accuracy': 0.529891312122345,\n",
       " 'department_output_loss': 3.2407875061035156,\n",
       " 'loss': 5.073272228240967}"
      ]
     },
     "execution_count": 17,
     "metadata": {},
     "output_type": "execute_result"
    }
   ],
   "source": [
    "# Evaluate the model with the testing data\n",
    "results = model.evaluate(X_test_scaled, {\n",
    "    'department_output': y_test_department,\n",
    "    'attrition_output': y_test_attrition\n",
    "}, return_dict=True)\n",
    "results"
   ]
  },
  {
   "cell_type": "code",
   "execution_count": 18,
   "metadata": {
    "colab": {
     "base_uri": "https://localhost:8080/"
    },
    "executionInfo": {
     "elapsed": 113,
     "status": "ok",
     "timestamp": 1730699260004,
     "user": {
      "displayName": "Alexander Booth",
      "userId": "02269714993535573104"
     },
     "user_tz": 360
    },
    "id": "ZlCtlHi0Vt54",
    "outputId": "3a32435c-11cf-48da-81b5-1431d6c00da2"
   },
   "outputs": [
    {
     "name": "stdout",
     "output_type": "stream",
     "text": [
      "Attrition predictions accuracy: 0.804347813129425\n",
      "Department predictions accuracy: 0.529891312122345\n"
     ]
    }
   ],
   "source": [
    "# Print the accuracy for both department and attrition\n",
    "print(f\"Attrition predictions accuracy: {results['attrition_output_accuracy']}\")\n",
    "print(f\"Department predictions accuracy: {results['department_output_accuracy']}\")"
   ]
  },
  {
   "cell_type": "markdown",
   "metadata": {
    "id": "eGSyfsZfWOQM"
   },
   "source": [
    "# Summary\n",
    "\n",
    "In the provided space below, briefly answer the following questions.\n",
    "\n",
    "1. Is accuracy the best metric to use on this data? Why or why not?\n",
    "\n",
    "2. What activation functions did you choose for your output layers, and why?\n",
    "\n",
    "3. Can you name a few ways that this model might be improved?"
   ]
  },
  {
   "cell_type": "markdown",
   "metadata": {
    "id": "pi9SLpFnWvbF"
   },
   "source": [
    "YOUR ANSWERS HERE\n",
    "\n",
    "1. No, because if one class (like \"No Attrition\") is much more common, the model could just guess that every time and still look \"accurate\" — but it wouldn’t actually be helpful. Other metrics like precision can show how well the model handles both classes.\n",
    "\n",
    "2. Use sigmoid for binary classification (yes or no), because it gives a result between 0 and 1 — like a probability.\n",
    "\n",
    "3. - Use more data or balance the classes\n",
    "   - Try different models or more layers\n",
    "   - Tune hyperparameters (like learning rate or batch size)\n",
    "   - Use regularization to prevent overfitting"
   ]
  },
  {
   "cell_type": "code",
   "execution_count": null,
   "metadata": {
    "executionInfo": {
     "elapsed": 3,
     "status": "ok",
     "timestamp": 1730699260004,
     "user": {
      "displayName": "Alexander Booth",
      "userId": "02269714993535573104"
     },
     "user_tz": 360
    },
    "id": "ZuQWjGgGXZ3C"
   },
   "outputs": [],
   "source": []
  }
 ],
 "metadata": {
  "colab": {
   "provenance": []
  },
  "kernelspec": {
   "display_name": "tensorflow",
   "language": "python",
   "name": "python3"
  },
  "language_info": {
   "codemirror_mode": {
    "name": "ipython",
    "version": 3
   },
   "file_extension": ".py",
   "mimetype": "text/x-python",
   "name": "python",
   "nbconvert_exporter": "python",
   "pygments_lexer": "ipython3",
   "version": "3.12.9"
  }
 },
 "nbformat": 4,
 "nbformat_minor": 0
}
